{
  "cells": [
    {
      "cell_type": "markdown",
      "metadata": {
        "id": "CoMmLFybTNR9"
      },
      "source": [
        "# Workshop: Content-based Recommendation\n",
        "\n",
        "In this workshop, we'll try content-based recommendation using features and textual descriptions of movies.\n"
      ]
    },
    {
      "cell_type": "code",
      "execution_count": 3,
      "metadata": {
        "id": "xWGLcuv5Q-J_"
      },
      "outputs": [],
      "source": [
        "import pandas as pd\n",
        "import numpy as np\n",
        "import matplotlib.pyplot as plt\n",
        "import nltk\n",
        "from nltk import word_tokenize\n",
        "from sklearn.feature_extraction.text import CountVectorizer, TfidfVectorizer\n",
        "from sklearn.metrics.pairwise import cosine_similarity\n",
        "from sklearn.neighbors import NearestNeighbors"
      ]
    },
    {
      "cell_type": "code",
      "execution_count": 4,
      "metadata": {
        "id": "78bXz5BbSA4v"
      },
      "outputs": [],
      "source": [
        "data = pd.read_csv(\"drive/MyDrive/Colab Notebooks/RecSys/movies_metadata.csv\", dtype = {'original_title': \"string\", 'overview': \"string\", 'tagline': \"string\", 'title': \"string\" }, encoding=\"utf-8\", low_memory=False) "
      ]
    },
    {
      "cell_type": "markdown",
      "metadata": {
        "id": "R-0hFusq5bnq"
      },
      "source": [
        "#1. Data understanding and cleaning\n",
        "Let's check the number of rows and columns, and the name of columns."
      ]
    },
    {
      "cell_type": "code",
      "execution_count": 5,
      "metadata": {
        "colab": {
          "base_uri": "https://localhost:8080/"
        },
        "id": "D4DAgl3eSgYw",
        "outputId": "b2035912-c47f-4104-b6ce-6f19829c6ab1"
      },
      "outputs": [
        {
          "output_type": "stream",
          "name": "stdout",
          "text": [
            "(45466, 24)\n"
          ]
        },
        {
          "output_type": "execute_result",
          "data": {
            "text/plain": [
              "Index(['adult', 'belongs_to_collection', 'budget', 'genres', 'homepage', 'id',\n",
              "       'imdb_id', 'original_language', 'original_title', 'overview',\n",
              "       'popularity', 'poster_path', 'production_companies',\n",
              "       'production_countries', 'release_date', 'revenue', 'runtime',\n",
              "       'spoken_languages', 'status', 'tagline', 'title', 'video',\n",
              "       'vote_average', 'vote_count'],\n",
              "      dtype='object')"
            ]
          },
          "metadata": {},
          "execution_count": 5
        }
      ],
      "source": [
        "print(data.shape)\n",
        "data.columns"
      ]
    },
    {
      "cell_type": "markdown",
      "metadata": {
        "id": "DB2NvKnK5xfk"
      },
      "source": [
        "The data types have been \"guessed\" by Pandas, other than those that were indicated as \"string\" type earlier."
      ]
    },
    {
      "cell_type": "code",
      "execution_count": 6,
      "metadata": {
        "colab": {
          "base_uri": "https://localhost:8080/"
        },
        "id": "947O-Uri3HF4",
        "outputId": "90fac748-b527-4633-a4a4-edf53d080007"
      },
      "outputs": [
        {
          "output_type": "execute_result",
          "data": {
            "text/plain": [
              "adult                     object\n",
              "belongs_to_collection     object\n",
              "budget                    object\n",
              "genres                    object\n",
              "homepage                  object\n",
              "id                        object\n",
              "imdb_id                   object\n",
              "original_language         object\n",
              "original_title            string\n",
              "overview                  string\n",
              "popularity                object\n",
              "poster_path               object\n",
              "production_companies      object\n",
              "production_countries      object\n",
              "release_date              object\n",
              "revenue                  float64\n",
              "runtime                  float64\n",
              "spoken_languages          object\n",
              "status                    object\n",
              "tagline                   string\n",
              "title                     string\n",
              "video                     object\n",
              "vote_average             float64\n",
              "vote_count               float64\n",
              "dtype: object"
            ]
          },
          "metadata": {},
          "execution_count": 6
        }
      ],
      "source": [
        "data.dtypes"
      ]
    },
    {
      "cell_type": "markdown",
      "source": [
        "Take a look at the actual values in the first record."
      ],
      "metadata": {
        "id": "OWOX2f0dJoph"
      }
    },
    {
      "cell_type": "code",
      "execution_count": 7,
      "metadata": {
        "colab": {
          "base_uri": "https://localhost:8080/"
        },
        "id": "OWyuaFuiSs-q",
        "outputId": "ba90be8f-0ae3-4ec5-fed5-c01ca369387b"
      },
      "outputs": [
        {
          "output_type": "execute_result",
          "data": {
            "text/plain": [
              "adult                                                                False\n",
              "belongs_to_collection    {'id': 10194, 'name': 'Toy Story Collection', ...\n",
              "budget                                                            30000000\n",
              "genres                   [{'id': 16, 'name': 'Animation'}, {'id': 35, '...\n",
              "homepage                              http://toystory.disney.com/toy-story\n",
              "id                                                                     862\n",
              "imdb_id                                                          tt0114709\n",
              "original_language                                                       en\n",
              "original_title                                                   Toy Story\n",
              "overview                 Led by Woody, Andy's toys live happily in his ...\n",
              "popularity                                                       21.946943\n",
              "poster_path                               /rhIRbceoE9lR4veEXuwCC2wARtG.jpg\n",
              "production_companies        [{'name': 'Pixar Animation Studios', 'id': 3}]\n",
              "production_countries     [{'iso_3166_1': 'US', 'name': 'United States o...\n",
              "release_date                                                    1995-10-30\n",
              "revenue                                                        373554033.0\n",
              "runtime                                                               81.0\n",
              "spoken_languages                  [{'iso_639_1': 'en', 'name': 'English'}]\n",
              "status                                                            Released\n",
              "tagline                                                               <NA>\n",
              "title                                                            Toy Story\n",
              "video                                                                False\n",
              "vote_average                                                           7.7\n",
              "vote_count                                                          5415.0\n",
              "Name: 0, dtype: object"
            ]
          },
          "metadata": {},
          "execution_count": 7
        }
      ],
      "source": [
        "data.loc[0]"
      ]
    },
    {
      "cell_type": "markdown",
      "metadata": {
        "id": "LZCXYLE57rRc"
      },
      "source": [
        "We don't need columns like \"homepage\", \"imdb_id\", etc for recommendation purpose."
      ]
    },
    {
      "cell_type": "code",
      "execution_count": 8,
      "metadata": {
        "colab": {
          "base_uri": "https://localhost:8080/"
        },
        "id": "7UzCgyZ2TSnf",
        "outputId": "b4485d54-0bea-4a95-d51a-9755ff8c3393"
      },
      "outputs": [
        {
          "output_type": "execute_result",
          "data": {
            "text/plain": [
              "(45466, 17)"
            ]
          },
          "metadata": {},
          "execution_count": 8
        }
      ],
      "source": [
        "vkeep = [ 'adult', 'belongs_to_collection', 'budget', 'genres', 'id',\n",
        "        'original_language', 'overview',\n",
        "       'popularity', 'production_companies',\n",
        "       'production_countries', 'release_date', 'revenue', 'runtime',\n",
        "       'spoken_languages',  'title', 'vote_average', 'vote_count'] \n",
        "data = data[ vkeep ]\n",
        "data.shape"
      ]
    },
    {
      "cell_type": "markdown",
      "metadata": {
        "id": "0WqLvFPS78Pz"
      },
      "source": [
        "For variable like 'belongs_to_collection', its value is a dictionary. Create a function that gets the name of the collection out of the dictionary."
      ]
    },
    {
      "cell_type": "code",
      "execution_count": 9,
      "metadata": {
        "id": "Z1mETrDPaodC"
      },
      "outputs": [],
      "source": [
        "def getValue(astring):\n",
        "  if astring == 'nan':\n",
        "    return astring\n",
        "  if type(eval(astring)) == dict :\n",
        "    return eval(astring)['name']\n",
        "  else:\n",
        "    return 'nan' "
      ]
    },
    {
      "cell_type": "code",
      "execution_count": 10,
      "metadata": {
        "colab": {
          "base_uri": "https://localhost:8080/"
        },
        "id": "EjhqRNluXzVK",
        "outputId": "ecd56d44-9991-4ce2-826a-76bebf18b03a"
      },
      "outputs": [
        {
          "output_type": "execute_result",
          "data": {
            "text/plain": [
              "0                  Toy Story Collection\n",
              "1                                   nan\n",
              "2             Grumpy Old Men Collection\n",
              "3                                   nan\n",
              "4        Father of the Bride Collection\n",
              "                      ...              \n",
              "45461                               nan\n",
              "45462                               nan\n",
              "45463                               nan\n",
              "45464                               nan\n",
              "45465                               nan\n",
              "Name: belongs_to_collection, Length: 45466, dtype: object"
            ]
          },
          "metadata": {},
          "execution_count": 10
        }
      ],
      "source": [
        "data.loc[:, 'belongs_to_collection']= data['belongs_to_collection'].apply(lambda x: getValue(str(x)))\n",
        "data['belongs_to_collection']"
      ]
    },
    {
      "cell_type": "markdown",
      "metadata": {
        "id": "qiEB36e--BRV"
      },
      "source": [
        "Values of some variables are list of dictionaries. Let's also create a function to extract the actual values of an indicated key out as list."
      ]
    },
    {
      "cell_type": "code",
      "execution_count": 11,
      "metadata": {
        "id": "tMURiCUmen5_"
      },
      "outputs": [],
      "source": [
        "def getValues(astring, key):\n",
        "  if astring == 'nan':\n",
        "    return [ ]\n",
        "  if type(eval(astring)) == list :\n",
        "    alist = eval(astring)\n",
        "    return [ eval(str(a))[key] for a in alist ]\n",
        "  else:\n",
        "    return [  ] "
      ]
    },
    {
      "cell_type": "code",
      "execution_count": 12,
      "metadata": {
        "id": "H3wQzCNJgzay"
      },
      "outputs": [],
      "source": [
        "data.loc[:, 'genres'] = data['genres'].apply(lambda x: getValues(str(x), 'name'))\n",
        "data.loc[:, 'production_companies'] = data['production_companies'].apply(lambda x: getValues(str(x), 'name'))\n",
        "data.loc[:, 'production_countries'] = data['production_countries'].apply(lambda x: getValues(str(x), 'iso_3166_1'))\n",
        "data.loc[:, 'spoken_languages'] = data['spoken_languages'].apply(lambda x: getValues(str(x), 'name'))"
      ]
    },
    {
      "cell_type": "code",
      "execution_count": 13,
      "metadata": {
        "colab": {
          "base_uri": "https://localhost:8080/"
        },
        "id": "ieHtdLH_hsf1",
        "outputId": "96d1c54f-b536-47d2-d7a3-d4fc32f5a1f0"
      },
      "outputs": [
        {
          "output_type": "execute_result",
          "data": {
            "text/plain": [
              "adult                                                                False\n",
              "belongs_to_collection                                 Toy Story Collection\n",
              "budget                                                            30000000\n",
              "genres                                         [Animation, Comedy, Family]\n",
              "id                                                                     862\n",
              "original_language                                                       en\n",
              "overview                 Led by Woody, Andy's toys live happily in his ...\n",
              "popularity                                                       21.946943\n",
              "production_companies                             [Pixar Animation Studios]\n",
              "production_countries                                                  [US]\n",
              "release_date                                                    1995-10-30\n",
              "revenue                                                        373554033.0\n",
              "runtime                                                               81.0\n",
              "spoken_languages                                                 [English]\n",
              "title                                                            Toy Story\n",
              "vote_average                                                           7.7\n",
              "vote_count                                                          5415.0\n",
              "Name: 0, dtype: object"
            ]
          },
          "metadata": {},
          "execution_count": 13
        }
      ],
      "source": [
        "data.loc[0]"
      ]
    },
    {
      "cell_type": "markdown",
      "metadata": {
        "id": "JFpMuQc6DqyW"
      },
      "source": [
        "#2. Recommend movie using descriptive features: K Nearest Neighbors\n",
        "We'll use NearestNeighbors from sklearn, which requires all input variables to be numeric. We can see most of the variables we have here are 'object', so more data preprocessing is needed, eg. to convert binary 'adult' to be numerical, and convert categorical variables like 'genres' into a set of dummy variables."
      ]
    },
    {
      "cell_type": "code",
      "execution_count": 14,
      "metadata": {
        "colab": {
          "base_uri": "https://localhost:8080/"
        },
        "id": "qyTevSSNEdVt",
        "outputId": "78ef9ab8-a22d-45ce-f93f-69bda8d8fa3e"
      },
      "outputs": [
        {
          "output_type": "execute_result",
          "data": {
            "text/plain": [
              "adult                     object\n",
              "belongs_to_collection     object\n",
              "budget                    object\n",
              "genres                    object\n",
              "id                        object\n",
              "original_language         object\n",
              "overview                  string\n",
              "popularity                object\n",
              "production_companies      object\n",
              "production_countries      object\n",
              "release_date              object\n",
              "revenue                  float64\n",
              "runtime                  float64\n",
              "spoken_languages          object\n",
              "title                     string\n",
              "vote_average             float64\n",
              "vote_count               float64\n",
              "dtype: object"
            ]
          },
          "metadata": {},
          "execution_count": 14
        }
      ],
      "source": [
        "data.dtypes"
      ]
    },
    {
      "cell_type": "markdown",
      "metadata": {
        "id": "X-N0siloFLBW"
      },
      "source": [
        "Let's choose a subset of variables for recommendataion: 'adult', 'genres', 'popularity', 'runtime','vote_average', 'vote_count'. "
      ]
    },
    {
      "cell_type": "code",
      "execution_count": 15,
      "metadata": {
        "id": "rW0JKE3s1X6C"
      },
      "outputs": [],
      "source": [
        "#select the variables for comparison\n",
        "vcompare = [ 'adult', 'genres', 'popularity', 'runtime','vote_average', 'vote_count' ] \n",
        "data_compare = data[ vcompare ] "
      ]
    },
    {
      "cell_type": "markdown",
      "metadata": {
        "id": "abixDqqqD0tO"
      },
      "source": [
        "Drop the rows with missing values in the subset 'data_compare'. Observe that the number of rows has dropped from 45466 to 45203. We also need to reset the row index, however, we keep the original row index as an additional column so that later we can still access other information of movies (in \"data\") using them."
      ]
    },
    {
      "cell_type": "code",
      "execution_count": 16,
      "metadata": {
        "colab": {
          "base_uri": "https://localhost:8080/"
        },
        "id": "G9r7UzcoFFAG",
        "outputId": "40818dc8-98d4-41a7-bbe3-494a7deffdb2"
      },
      "outputs": [
        {
          "output_type": "execute_result",
          "data": {
            "text/plain": [
              "(45203, 6)"
            ]
          },
          "metadata": {},
          "execution_count": 16
        }
      ],
      "source": [
        "#drop rows with missing values\n",
        "data_compare = data_compare.dropna()\n",
        "data_compare.shape\n"
      ]
    },
    {
      "cell_type": "code",
      "execution_count": 17,
      "metadata": {
        "colab": {
          "base_uri": "https://localhost:8080/",
          "height": 206
        },
        "id": "nLKB7BIfDeqO",
        "outputId": "f248e84a-6386-472e-d19e-6d9c93b5e7f9"
      },
      "outputs": [
        {
          "output_type": "execute_result",
          "data": {
            "text/plain": [
              "       index  adult                     genres popularity  runtime  \\\n",
              "45198  45461  False            [Drama, Family]   0.072051     90.0   \n",
              "45199  45462  False                    [Drama]   0.178241    360.0   \n",
              "45200  45463  False  [Action, Drama, Thriller]   0.903007     90.0   \n",
              "45201  45464  False                         []   0.003503     87.0   \n",
              "45202  45465  False                         []   0.163015     75.0   \n",
              "\n",
              "       vote_average  vote_count  \n",
              "45198           4.0         1.0  \n",
              "45199           9.0         3.0  \n",
              "45200           3.8         6.0  \n",
              "45201           0.0         0.0  \n",
              "45202           0.0         0.0  "
            ],
            "text/html": [
              "\n",
              "  <div id=\"df-4de7c670-8934-43fa-a40d-7f9845f1b2d8\">\n",
              "    <div class=\"colab-df-container\">\n",
              "      <div>\n",
              "<style scoped>\n",
              "    .dataframe tbody tr th:only-of-type {\n",
              "        vertical-align: middle;\n",
              "    }\n",
              "\n",
              "    .dataframe tbody tr th {\n",
              "        vertical-align: top;\n",
              "    }\n",
              "\n",
              "    .dataframe thead th {\n",
              "        text-align: right;\n",
              "    }\n",
              "</style>\n",
              "<table border=\"1\" class=\"dataframe\">\n",
              "  <thead>\n",
              "    <tr style=\"text-align: right;\">\n",
              "      <th></th>\n",
              "      <th>index</th>\n",
              "      <th>adult</th>\n",
              "      <th>genres</th>\n",
              "      <th>popularity</th>\n",
              "      <th>runtime</th>\n",
              "      <th>vote_average</th>\n",
              "      <th>vote_count</th>\n",
              "    </tr>\n",
              "  </thead>\n",
              "  <tbody>\n",
              "    <tr>\n",
              "      <th>45198</th>\n",
              "      <td>45461</td>\n",
              "      <td>False</td>\n",
              "      <td>[Drama, Family]</td>\n",
              "      <td>0.072051</td>\n",
              "      <td>90.0</td>\n",
              "      <td>4.0</td>\n",
              "      <td>1.0</td>\n",
              "    </tr>\n",
              "    <tr>\n",
              "      <th>45199</th>\n",
              "      <td>45462</td>\n",
              "      <td>False</td>\n",
              "      <td>[Drama]</td>\n",
              "      <td>0.178241</td>\n",
              "      <td>360.0</td>\n",
              "      <td>9.0</td>\n",
              "      <td>3.0</td>\n",
              "    </tr>\n",
              "    <tr>\n",
              "      <th>45200</th>\n",
              "      <td>45463</td>\n",
              "      <td>False</td>\n",
              "      <td>[Action, Drama, Thriller]</td>\n",
              "      <td>0.903007</td>\n",
              "      <td>90.0</td>\n",
              "      <td>3.8</td>\n",
              "      <td>6.0</td>\n",
              "    </tr>\n",
              "    <tr>\n",
              "      <th>45201</th>\n",
              "      <td>45464</td>\n",
              "      <td>False</td>\n",
              "      <td>[]</td>\n",
              "      <td>0.003503</td>\n",
              "      <td>87.0</td>\n",
              "      <td>0.0</td>\n",
              "      <td>0.0</td>\n",
              "    </tr>\n",
              "    <tr>\n",
              "      <th>45202</th>\n",
              "      <td>45465</td>\n",
              "      <td>False</td>\n",
              "      <td>[]</td>\n",
              "      <td>0.163015</td>\n",
              "      <td>75.0</td>\n",
              "      <td>0.0</td>\n",
              "      <td>0.0</td>\n",
              "    </tr>\n",
              "  </tbody>\n",
              "</table>\n",
              "</div>\n",
              "      <button class=\"colab-df-convert\" onclick=\"convertToInteractive('df-4de7c670-8934-43fa-a40d-7f9845f1b2d8')\"\n",
              "              title=\"Convert this dataframe to an interactive table.\"\n",
              "              style=\"display:none;\">\n",
              "        \n",
              "  <svg xmlns=\"http://www.w3.org/2000/svg\" height=\"24px\"viewBox=\"0 0 24 24\"\n",
              "       width=\"24px\">\n",
              "    <path d=\"M0 0h24v24H0V0z\" fill=\"none\"/>\n",
              "    <path d=\"M18.56 5.44l.94 2.06.94-2.06 2.06-.94-2.06-.94-.94-2.06-.94 2.06-2.06.94zm-11 1L8.5 8.5l.94-2.06 2.06-.94-2.06-.94L8.5 2.5l-.94 2.06-2.06.94zm10 10l.94 2.06.94-2.06 2.06-.94-2.06-.94-.94-2.06-.94 2.06-2.06.94z\"/><path d=\"M17.41 7.96l-1.37-1.37c-.4-.4-.92-.59-1.43-.59-.52 0-1.04.2-1.43.59L10.3 9.45l-7.72 7.72c-.78.78-.78 2.05 0 2.83L4 21.41c.39.39.9.59 1.41.59.51 0 1.02-.2 1.41-.59l7.78-7.78 2.81-2.81c.8-.78.8-2.07 0-2.86zM5.41 20L4 18.59l7.72-7.72 1.47 1.35L5.41 20z\"/>\n",
              "  </svg>\n",
              "      </button>\n",
              "      \n",
              "  <style>\n",
              "    .colab-df-container {\n",
              "      display:flex;\n",
              "      flex-wrap:wrap;\n",
              "      gap: 12px;\n",
              "    }\n",
              "\n",
              "    .colab-df-convert {\n",
              "      background-color: #E8F0FE;\n",
              "      border: none;\n",
              "      border-radius: 50%;\n",
              "      cursor: pointer;\n",
              "      display: none;\n",
              "      fill: #1967D2;\n",
              "      height: 32px;\n",
              "      padding: 0 0 0 0;\n",
              "      width: 32px;\n",
              "    }\n",
              "\n",
              "    .colab-df-convert:hover {\n",
              "      background-color: #E2EBFA;\n",
              "      box-shadow: 0px 1px 2px rgba(60, 64, 67, 0.3), 0px 1px 3px 1px rgba(60, 64, 67, 0.15);\n",
              "      fill: #174EA6;\n",
              "    }\n",
              "\n",
              "    [theme=dark] .colab-df-convert {\n",
              "      background-color: #3B4455;\n",
              "      fill: #D2E3FC;\n",
              "    }\n",
              "\n",
              "    [theme=dark] .colab-df-convert:hover {\n",
              "      background-color: #434B5C;\n",
              "      box-shadow: 0px 1px 3px 1px rgba(0, 0, 0, 0.15);\n",
              "      filter: drop-shadow(0px 1px 2px rgba(0, 0, 0, 0.3));\n",
              "      fill: #FFFFFF;\n",
              "    }\n",
              "  </style>\n",
              "\n",
              "      <script>\n",
              "        const buttonEl =\n",
              "          document.querySelector('#df-4de7c670-8934-43fa-a40d-7f9845f1b2d8 button.colab-df-convert');\n",
              "        buttonEl.style.display =\n",
              "          google.colab.kernel.accessAllowed ? 'block' : 'none';\n",
              "\n",
              "        async function convertToInteractive(key) {\n",
              "          const element = document.querySelector('#df-4de7c670-8934-43fa-a40d-7f9845f1b2d8');\n",
              "          const dataTable =\n",
              "            await google.colab.kernel.invokeFunction('convertToInteractive',\n",
              "                                                     [key], {});\n",
              "          if (!dataTable) return;\n",
              "\n",
              "          const docLinkHtml = 'Like what you see? Visit the ' +\n",
              "            '<a target=\"_blank\" href=https://colab.research.google.com/notebooks/data_table.ipynb>data table notebook</a>'\n",
              "            + ' to learn more about interactive tables.';\n",
              "          element.innerHTML = '';\n",
              "          dataTable['output_type'] = 'display_data';\n",
              "          await google.colab.output.renderOutput(dataTable, element);\n",
              "          const docLink = document.createElement('div');\n",
              "          docLink.innerHTML = docLinkHtml;\n",
              "          element.appendChild(docLink);\n",
              "        }\n",
              "      </script>\n",
              "    </div>\n",
              "  </div>\n",
              "  "
            ]
          },
          "metadata": {},
          "execution_count": 17
        }
      ],
      "source": [
        "data_compare = data_compare.reset_index()\n",
        "data_compare[-5:]"
      ]
    },
    {
      "cell_type": "code",
      "execution_count": 18,
      "metadata": {
        "colab": {
          "base_uri": "https://localhost:8080/"
        },
        "id": "Y3VoESGMSzBM",
        "outputId": "253234b0-606b-4a9f-f457-e6c36013f8fe"
      },
      "outputs": [
        {
          "output_type": "execute_result",
          "data": {
            "text/plain": [
              "index             int64\n",
              "adult            object\n",
              "genres           object\n",
              "popularity       object\n",
              "runtime         float64\n",
              "vote_average    float64\n",
              "vote_count      float64\n",
              "dtype: object"
            ]
          },
          "metadata": {},
          "execution_count": 18
        }
      ],
      "source": [
        "data_compare.dtypes"
      ]
    },
    {
      "cell_type": "markdown",
      "source": [
        "Now let's convert 'adult' to be type integer with values '0' and '1', and 'popularity' to type float."
      ],
      "metadata": {
        "id": "X6Ir9g44MOof"
      }
    },
    {
      "cell_type": "code",
      "execution_count": 32,
      "metadata": {
        "colab": {
          "base_uri": "https://localhost:8080/"
        },
        "id": "ancapqoTOY4y",
        "outputId": "47d98d80-bb6c-488a-d0bc-498a5136d608"
      },
      "outputs": [
        {
          "output_type": "execute_result",
          "data": {
            "text/plain": [
              "index             int64\n",
              "adult             int64\n",
              "genres           object\n",
              "popularity      float64\n",
              "runtime         float64\n",
              "vote_average    float64\n",
              "vote_count      float64\n",
              "dtype: object"
            ]
          },
          "metadata": {},
          "execution_count": 32
        }
      ],
      "source": [
        "data_compare['adult'] = data_compare['adult'].map({'False':0, 'True':1}).astype('int64')\n",
        "data_compare['popularity'] = data_compare['popularity'].astype('float64')\n",
        "data_compare.dtypes"
      ]
    },
    {
      "cell_type": "markdown",
      "metadata": {
        "id": "N6zK6La-E15P"
      },
      "source": [
        "Finally we create the dummy variables for 'genres' and remove the original variable and index. The inputs to the nearest neighbors algorithm are ready."
      ]
    },
    {
      "cell_type": "code",
      "execution_count": 33,
      "metadata": {
        "colab": {
          "base_uri": "https://localhost:8080/"
        },
        "id": "0Oot19eUXYyg",
        "outputId": "075cbe33-0249-443a-e59f-975d34c432e4"
      },
      "outputs": [
        {
          "output_type": "execute_result",
          "data": {
            "text/plain": [
              "(45203, 25)"
            ]
          },
          "metadata": {},
          "execution_count": 33
        }
      ],
      "source": [
        "#create dummy variables for 'genres'\n",
        "X = pd.concat([data_compare, data_compare['genres'].str.join('|').str.get_dummies()], axis=1)\n",
        "#remove the original 'genres' variable\n",
        "X.pop('genres')\n",
        "X.pop('index')\n",
        "X.shape"
      ]
    },
    {
      "cell_type": "code",
      "execution_count": 34,
      "metadata": {
        "colab": {
          "base_uri": "https://localhost:8080/"
        },
        "id": "exdluwNpZoYQ",
        "outputId": "fbd38400-2442-4037-bd9d-a1541988ddca"
      },
      "outputs": [
        {
          "output_type": "execute_result",
          "data": {
            "text/plain": [
              "adult                int64\n",
              "popularity         float64\n",
              "runtime            float64\n",
              "vote_average       float64\n",
              "vote_count         float64\n",
              "Action               int64\n",
              "Adventure            int64\n",
              "Animation            int64\n",
              "Comedy               int64\n",
              "Crime                int64\n",
              "Documentary          int64\n",
              "Drama                int64\n",
              "Family               int64\n",
              "Fantasy              int64\n",
              "Foreign              int64\n",
              "History              int64\n",
              "Horror               int64\n",
              "Music                int64\n",
              "Mystery              int64\n",
              "Romance              int64\n",
              "Science Fiction      int64\n",
              "TV Movie             int64\n",
              "Thriller             int64\n",
              "War                  int64\n",
              "Western              int64\n",
              "dtype: object"
            ]
          },
          "metadata": {},
          "execution_count": 34
        }
      ],
      "source": [
        "X.dtypes"
      ]
    },
    {
      "cell_type": "code",
      "execution_count": 35,
      "metadata": {
        "colab": {
          "base_uri": "https://localhost:8080/",
          "height": 297
        },
        "id": "Hx96yLL7tLQw",
        "outputId": "9dda8b89-cbb0-4a8e-cf50-b205e9211b69"
      },
      "outputs": [
        {
          "output_type": "execute_result",
          "data": {
            "text/plain": [
              "   adult  popularity  runtime  vote_average  vote_count  Action  Adventure  \\\n",
              "0      0   21.946943     81.0           7.7      5415.0       0          0   \n",
              "1      0   17.015539    104.0           6.9      2413.0       0          1   \n",
              "2      0   11.712900    101.0           6.5        92.0       0          0   \n",
              "3      0    3.859495    127.0           6.1        34.0       0          0   \n",
              "4      0    8.387519    106.0           5.7       173.0       0          0   \n",
              "\n",
              "   Animation  Comedy  Crime  ...  History  Horror  Music  Mystery  Romance  \\\n",
              "0          1       1      0  ...        0       0      0        0        0   \n",
              "1          0       0      0  ...        0       0      0        0        0   \n",
              "2          0       1      0  ...        0       0      0        0        1   \n",
              "3          0       1      0  ...        0       0      0        0        1   \n",
              "4          0       1      0  ...        0       0      0        0        0   \n",
              "\n",
              "   Science Fiction  TV Movie  Thriller  War  Western  \n",
              "0                0         0         0    0        0  \n",
              "1                0         0         0    0        0  \n",
              "2                0         0         0    0        0  \n",
              "3                0         0         0    0        0  \n",
              "4                0         0         0    0        0  \n",
              "\n",
              "[5 rows x 25 columns]"
            ],
            "text/html": [
              "\n",
              "  <div id=\"df-78bdfbfb-a277-4554-9a3e-c01941815e6a\">\n",
              "    <div class=\"colab-df-container\">\n",
              "      <div>\n",
              "<style scoped>\n",
              "    .dataframe tbody tr th:only-of-type {\n",
              "        vertical-align: middle;\n",
              "    }\n",
              "\n",
              "    .dataframe tbody tr th {\n",
              "        vertical-align: top;\n",
              "    }\n",
              "\n",
              "    .dataframe thead th {\n",
              "        text-align: right;\n",
              "    }\n",
              "</style>\n",
              "<table border=\"1\" class=\"dataframe\">\n",
              "  <thead>\n",
              "    <tr style=\"text-align: right;\">\n",
              "      <th></th>\n",
              "      <th>adult</th>\n",
              "      <th>popularity</th>\n",
              "      <th>runtime</th>\n",
              "      <th>vote_average</th>\n",
              "      <th>vote_count</th>\n",
              "      <th>Action</th>\n",
              "      <th>Adventure</th>\n",
              "      <th>Animation</th>\n",
              "      <th>Comedy</th>\n",
              "      <th>Crime</th>\n",
              "      <th>...</th>\n",
              "      <th>History</th>\n",
              "      <th>Horror</th>\n",
              "      <th>Music</th>\n",
              "      <th>Mystery</th>\n",
              "      <th>Romance</th>\n",
              "      <th>Science Fiction</th>\n",
              "      <th>TV Movie</th>\n",
              "      <th>Thriller</th>\n",
              "      <th>War</th>\n",
              "      <th>Western</th>\n",
              "    </tr>\n",
              "  </thead>\n",
              "  <tbody>\n",
              "    <tr>\n",
              "      <th>0</th>\n",
              "      <td>0</td>\n",
              "      <td>21.946943</td>\n",
              "      <td>81.0</td>\n",
              "      <td>7.7</td>\n",
              "      <td>5415.0</td>\n",
              "      <td>0</td>\n",
              "      <td>0</td>\n",
              "      <td>1</td>\n",
              "      <td>1</td>\n",
              "      <td>0</td>\n",
              "      <td>...</td>\n",
              "      <td>0</td>\n",
              "      <td>0</td>\n",
              "      <td>0</td>\n",
              "      <td>0</td>\n",
              "      <td>0</td>\n",
              "      <td>0</td>\n",
              "      <td>0</td>\n",
              "      <td>0</td>\n",
              "      <td>0</td>\n",
              "      <td>0</td>\n",
              "    </tr>\n",
              "    <tr>\n",
              "      <th>1</th>\n",
              "      <td>0</td>\n",
              "      <td>17.015539</td>\n",
              "      <td>104.0</td>\n",
              "      <td>6.9</td>\n",
              "      <td>2413.0</td>\n",
              "      <td>0</td>\n",
              "      <td>1</td>\n",
              "      <td>0</td>\n",
              "      <td>0</td>\n",
              "      <td>0</td>\n",
              "      <td>...</td>\n",
              "      <td>0</td>\n",
              "      <td>0</td>\n",
              "      <td>0</td>\n",
              "      <td>0</td>\n",
              "      <td>0</td>\n",
              "      <td>0</td>\n",
              "      <td>0</td>\n",
              "      <td>0</td>\n",
              "      <td>0</td>\n",
              "      <td>0</td>\n",
              "    </tr>\n",
              "    <tr>\n",
              "      <th>2</th>\n",
              "      <td>0</td>\n",
              "      <td>11.712900</td>\n",
              "      <td>101.0</td>\n",
              "      <td>6.5</td>\n",
              "      <td>92.0</td>\n",
              "      <td>0</td>\n",
              "      <td>0</td>\n",
              "      <td>0</td>\n",
              "      <td>1</td>\n",
              "      <td>0</td>\n",
              "      <td>...</td>\n",
              "      <td>0</td>\n",
              "      <td>0</td>\n",
              "      <td>0</td>\n",
              "      <td>0</td>\n",
              "      <td>1</td>\n",
              "      <td>0</td>\n",
              "      <td>0</td>\n",
              "      <td>0</td>\n",
              "      <td>0</td>\n",
              "      <td>0</td>\n",
              "    </tr>\n",
              "    <tr>\n",
              "      <th>3</th>\n",
              "      <td>0</td>\n",
              "      <td>3.859495</td>\n",
              "      <td>127.0</td>\n",
              "      <td>6.1</td>\n",
              "      <td>34.0</td>\n",
              "      <td>0</td>\n",
              "      <td>0</td>\n",
              "      <td>0</td>\n",
              "      <td>1</td>\n",
              "      <td>0</td>\n",
              "      <td>...</td>\n",
              "      <td>0</td>\n",
              "      <td>0</td>\n",
              "      <td>0</td>\n",
              "      <td>0</td>\n",
              "      <td>1</td>\n",
              "      <td>0</td>\n",
              "      <td>0</td>\n",
              "      <td>0</td>\n",
              "      <td>0</td>\n",
              "      <td>0</td>\n",
              "    </tr>\n",
              "    <tr>\n",
              "      <th>4</th>\n",
              "      <td>0</td>\n",
              "      <td>8.387519</td>\n",
              "      <td>106.0</td>\n",
              "      <td>5.7</td>\n",
              "      <td>173.0</td>\n",
              "      <td>0</td>\n",
              "      <td>0</td>\n",
              "      <td>0</td>\n",
              "      <td>1</td>\n",
              "      <td>0</td>\n",
              "      <td>...</td>\n",
              "      <td>0</td>\n",
              "      <td>0</td>\n",
              "      <td>0</td>\n",
              "      <td>0</td>\n",
              "      <td>0</td>\n",
              "      <td>0</td>\n",
              "      <td>0</td>\n",
              "      <td>0</td>\n",
              "      <td>0</td>\n",
              "      <td>0</td>\n",
              "    </tr>\n",
              "  </tbody>\n",
              "</table>\n",
              "<p>5 rows × 25 columns</p>\n",
              "</div>\n",
              "      <button class=\"colab-df-convert\" onclick=\"convertToInteractive('df-78bdfbfb-a277-4554-9a3e-c01941815e6a')\"\n",
              "              title=\"Convert this dataframe to an interactive table.\"\n",
              "              style=\"display:none;\">\n",
              "        \n",
              "  <svg xmlns=\"http://www.w3.org/2000/svg\" height=\"24px\"viewBox=\"0 0 24 24\"\n",
              "       width=\"24px\">\n",
              "    <path d=\"M0 0h24v24H0V0z\" fill=\"none\"/>\n",
              "    <path d=\"M18.56 5.44l.94 2.06.94-2.06 2.06-.94-2.06-.94-.94-2.06-.94 2.06-2.06.94zm-11 1L8.5 8.5l.94-2.06 2.06-.94-2.06-.94L8.5 2.5l-.94 2.06-2.06.94zm10 10l.94 2.06.94-2.06 2.06-.94-2.06-.94-.94-2.06-.94 2.06-2.06.94z\"/><path d=\"M17.41 7.96l-1.37-1.37c-.4-.4-.92-.59-1.43-.59-.52 0-1.04.2-1.43.59L10.3 9.45l-7.72 7.72c-.78.78-.78 2.05 0 2.83L4 21.41c.39.39.9.59 1.41.59.51 0 1.02-.2 1.41-.59l7.78-7.78 2.81-2.81c.8-.78.8-2.07 0-2.86zM5.41 20L4 18.59l7.72-7.72 1.47 1.35L5.41 20z\"/>\n",
              "  </svg>\n",
              "      </button>\n",
              "      \n",
              "  <style>\n",
              "    .colab-df-container {\n",
              "      display:flex;\n",
              "      flex-wrap:wrap;\n",
              "      gap: 12px;\n",
              "    }\n",
              "\n",
              "    .colab-df-convert {\n",
              "      background-color: #E8F0FE;\n",
              "      border: none;\n",
              "      border-radius: 50%;\n",
              "      cursor: pointer;\n",
              "      display: none;\n",
              "      fill: #1967D2;\n",
              "      height: 32px;\n",
              "      padding: 0 0 0 0;\n",
              "      width: 32px;\n",
              "    }\n",
              "\n",
              "    .colab-df-convert:hover {\n",
              "      background-color: #E2EBFA;\n",
              "      box-shadow: 0px 1px 2px rgba(60, 64, 67, 0.3), 0px 1px 3px 1px rgba(60, 64, 67, 0.15);\n",
              "      fill: #174EA6;\n",
              "    }\n",
              "\n",
              "    [theme=dark] .colab-df-convert {\n",
              "      background-color: #3B4455;\n",
              "      fill: #D2E3FC;\n",
              "    }\n",
              "\n",
              "    [theme=dark] .colab-df-convert:hover {\n",
              "      background-color: #434B5C;\n",
              "      box-shadow: 0px 1px 3px 1px rgba(0, 0, 0, 0.15);\n",
              "      filter: drop-shadow(0px 1px 2px rgba(0, 0, 0, 0.3));\n",
              "      fill: #FFFFFF;\n",
              "    }\n",
              "  </style>\n",
              "\n",
              "      <script>\n",
              "        const buttonEl =\n",
              "          document.querySelector('#df-78bdfbfb-a277-4554-9a3e-c01941815e6a button.colab-df-convert');\n",
              "        buttonEl.style.display =\n",
              "          google.colab.kernel.accessAllowed ? 'block' : 'none';\n",
              "\n",
              "        async function convertToInteractive(key) {\n",
              "          const element = document.querySelector('#df-78bdfbfb-a277-4554-9a3e-c01941815e6a');\n",
              "          const dataTable =\n",
              "            await google.colab.kernel.invokeFunction('convertToInteractive',\n",
              "                                                     [key], {});\n",
              "          if (!dataTable) return;\n",
              "\n",
              "          const docLinkHtml = 'Like what you see? Visit the ' +\n",
              "            '<a target=\"_blank\" href=https://colab.research.google.com/notebooks/data_table.ipynb>data table notebook</a>'\n",
              "            + ' to learn more about interactive tables.';\n",
              "          element.innerHTML = '';\n",
              "          dataTable['output_type'] = 'display_data';\n",
              "          await google.colab.output.renderOutput(dataTable, element);\n",
              "          const docLink = document.createElement('div');\n",
              "          docLink.innerHTML = docLinkHtml;\n",
              "          element.appendChild(docLink);\n",
              "        }\n",
              "      </script>\n",
              "    </div>\n",
              "  </div>\n",
              "  "
            ]
          },
          "metadata": {},
          "execution_count": 35
        }
      ],
      "source": [
        "X.head()"
      ]
    },
    {
      "cell_type": "code",
      "execution_count": 36,
      "metadata": {
        "colab": {
          "base_uri": "https://localhost:8080/"
        },
        "id": "zrJcT7FIWZD7",
        "outputId": "252c95ae-02ec-4de8-ca4d-41e30cd2ee30"
      },
      "outputs": [
        {
          "output_type": "stream",
          "name": "stdout",
          "text": [
            "[    0 18445 22073  5209 13883]\n",
            "[ 0.         31.99359125 32.7636381  44.16511179 74.80834197]\n"
          ]
        }
      ],
      "source": [
        "# KNN\n",
        "# Take note here the indices refer to new row indices in 'data_compare'\n",
        "nbrs = NearestNeighbors(n_neighbors=5, algorithm='ball_tree').fit(X)\n",
        "distances, indices = nbrs.kneighbors(X)\n",
        "print(indices[0])\n",
        "print(distances[0])"
      ]
    },
    {
      "cell_type": "code",
      "execution_count": 37,
      "metadata": {
        "id": "NnMF_QjFW0cI"
      },
      "outputs": [],
      "source": [
        "# to display the results\n",
        "def showResults(qind, dis, ind):\n",
        "  for i, d in zip(ind[qind], dis[qind]) :\n",
        "    #retrieve the original row index, to access 'data'\n",
        "    reali = data_compare.loc[i, 'index']\n",
        "    print('=====')\n",
        "    print(str(i) + '\\tOriginal Row Index: ' + str(reali) + '\\tDistance: ' + str(d) + '\\tOriginal ID: ' + data.loc[reali, 'id'] )\n",
        "    #access the values in 'data_compare' using new row index\n",
        "    print(str(data_compare.loc[i]))\n",
        "    print(data.loc[reali, 'title'] + \"\\t\"+ data.loc[reali, 'overview'])"
      ]
    },
    {
      "cell_type": "code",
      "execution_count": 38,
      "metadata": {
        "colab": {
          "base_uri": "https://localhost:8080/"
        },
        "id": "CxhrValDXC9O",
        "outputId": "fed40ebd-d68a-4e49-b390-b24657fb278d"
      },
      "outputs": [
        {
          "output_type": "stream",
          "name": "stdout",
          "text": [
            "=====\n",
            "0\tOriginal Row Index: 0\tDistance: 0.0\tOriginal ID: 862\n",
            "index                                     0\n",
            "adult                                     0\n",
            "genres          [Animation, Comedy, Family]\n",
            "popularity                        21.946943\n",
            "runtime                                81.0\n",
            "vote_average                            7.7\n",
            "vote_count                           5415.0\n",
            "Name: 0, dtype: object\n",
            "Toy Story\tLed by Woody, Andy's toys live happily in his room until Andy's birthday brings Buzz Lightyear onto the scene. Afraid of losing his place in Andy's heart, Woody plots against Buzz. But when circumstances separate Buzz and Woody from their owner, the duo eventually learns to put aside their differences.\n",
            "=====\n",
            "18445\tOriginal Row Index: 18465\tDistance: 31.993591253258458\tOriginal ID: 77338\n",
            "index                     18465\n",
            "adult                         0\n",
            "genres          [Drama, Comedy]\n",
            "popularity            16.086919\n",
            "runtime                   112.0\n",
            "vote_average                8.2\n",
            "vote_count               5410.0\n",
            "Name: 18445, dtype: object\n",
            "The Intouchables\tA true story of two men who should never have met – a quadriplegic aristocrat who was injured in a paragliding accident and a young man from the projects.\n",
            "=====\n",
            "22073\tOriginal Row Index: 22110\tDistance: 32.763638102170525\tOriginal ID: 109445\n",
            "index                                    22110\n",
            "adult                                        0\n",
            "genres          [Animation, Adventure, Family]\n",
            "popularity                           24.248243\n",
            "runtime                                  102.0\n",
            "vote_average                               7.3\n",
            "vote_count                              5440.0\n",
            "Name: 22073, dtype: object\n",
            "Frozen\tYoung princess Anna of Arendelle dreams about finding true love at her sister Elsa’s coronation. Fate takes her on a dangerous journey in an attempt to end the eternal winter that has fallen over the kingdom. She's accompanied by ice delivery man Kristoff, his reindeer Sven, and snowman Olaf. On an adventure where she will find out what friendship, courage, family, and true love really means.\n",
            "=====\n",
            "5209\tOriginal Row Index: 5215\tDistance: 44.165111786277684\tOriginal ID: 557\n",
            "index                        5215\n",
            "adult                           0\n",
            "genres          [Fantasy, Action]\n",
            "popularity              29.413341\n",
            "runtime                     121.0\n",
            "vote_average                  6.8\n",
            "vote_count                 5398.0\n",
            "Name: 5209, dtype: object\n",
            "Spider-Man\tAfter being bitten by a genetically altered spider, nerdy high school student Peter Parker is endowed with amazing powers.\n",
            "=====\n",
            "13883\tOriginal Row Index: 13893\tDistance: 74.80834197312757\tOriginal ID: 767\n",
            "index                                  13893\n",
            "adult                                      0\n",
            "genres          [Adventure, Fantasy, Family]\n",
            "popularity                         19.083723\n",
            "runtime                                153.0\n",
            "vote_average                             7.4\n",
            "vote_count                            5435.0\n",
            "Name: 13883, dtype: object\n",
            "Harry Potter and the Half-Blood Prince\tAs Harry begins his sixth year at Hogwarts, he discovers an old book marked as 'Property of the Half-Blood Prince', and begins to learn more about Lord Voldemort's dark past.\n"
          ]
        }
      ],
      "source": [
        "showResults(0, distances, indices)"
      ]
    },
    {
      "cell_type": "markdown",
      "metadata": {
        "id": "QYQ0osfXoyX8"
      },
      "source": [
        "#Wait! What has been missed out? \n",
        "The variables are in different ranges! They need to be scaled to a common range."
      ]
    },
    {
      "cell_type": "code",
      "execution_count": 39,
      "metadata": {
        "id": "S_6661Gjj_9r"
      },
      "outputs": [],
      "source": [
        "import sklearn.preprocessing as pp\n",
        "scaler = pp.MinMaxScaler()\n",
        "X_scaled = scaler.fit_transform(X)"
      ]
    },
    {
      "cell_type": "code",
      "execution_count": 40,
      "metadata": {
        "colab": {
          "base_uri": "https://localhost:8080/"
        },
        "id": "X37qqK2LnypS",
        "outputId": "821e644c-18a1-49d7-dd4d-a2c019407cfa"
      },
      "outputs": [
        {
          "output_type": "stream",
          "name": "stdout",
          "text": [
            "[    0 15335  4750 21126  2991]\n",
            "[0.         0.05475811 0.05718747 0.08652331 0.11451635]\n"
          ]
        }
      ],
      "source": [
        "nbrs_scaled = NearestNeighbors(n_neighbors=5, algorithm='ball_tree').fit(X_scaled)\n",
        "dis_scaled, ind_scaled = nbrs_scaled.kneighbors(X_scaled)\n",
        "print(ind_scaled[0])\n",
        "print(dis_scaled[0])"
      ]
    },
    {
      "cell_type": "code",
      "execution_count": 41,
      "metadata": {
        "colab": {
          "base_uri": "https://localhost:8080/"
        },
        "id": "LNy8EbdaomZ0",
        "outputId": "4df7ab23-2bfb-4f2e-d869-53605691f176"
      },
      "outputs": [
        {
          "output_type": "stream",
          "name": "stdout",
          "text": [
            "=====\n",
            "0\tOriginal Row Index: 0\tDistance: 0.0\tOriginal ID: 862\n",
            "index                                     0\n",
            "adult                                     0\n",
            "genres          [Animation, Comedy, Family]\n",
            "popularity                        21.946943\n",
            "runtime                                81.0\n",
            "vote_average                            7.7\n",
            "vote_count                           5415.0\n",
            "Name: 0, dtype: object\n",
            "Toy Story\tLed by Woody, Andy's toys live happily in his room until Andy's birthday brings Buzz Lightyear onto the scene. Afraid of losing his place in Andy's heart, Woody plots against Buzz. But when circumstances separate Buzz and Woody from their owner, the duo eventually learns to put aside their differences.\n",
            "=====\n",
            "15335\tOriginal Row Index: 15348\tDistance: 0.05475811298093958\tOriginal ID: 10193\n",
            "index                                 15348\n",
            "adult                                     0\n",
            "genres          [Animation, Family, Comedy]\n",
            "popularity                         16.96647\n",
            "runtime                               103.0\n",
            "vote_average                            7.6\n",
            "vote_count                           4710.0\n",
            "Name: 15335, dtype: object\n",
            "Toy Story 3\tWoody, Buzz, and the rest of Andy's toys haven't been played with in years. With Andy about to go to college, the gang find themselves accidentally left at a nefarious day care center. The toys must band together to escape and return home to Andy.\n",
            "=====\n",
            "4750\tOriginal Row Index: 4756\tDistance: 0.05718746670009333\tOriginal ID: 585\n",
            "index                                  4756\n",
            "adult                                     0\n",
            "genres          [Animation, Comedy, Family]\n",
            "popularity                        26.419962\n",
            "runtime                                92.0\n",
            "vote_average                            7.5\n",
            "vote_count                           6150.0\n",
            "Name: 4750, dtype: object\n",
            "Monsters, Inc.\tJames Sullivan and Mike Wazowski are monsters, they earn their living scaring children and are the best in the business... even though they're more afraid of the children than they are of them. When a child accidentally enters their world, James and Mike suddenly find that kids are not to be afraid of and they uncover a conspiracy that could threaten all children across the world.\n",
            "=====\n",
            "21126\tOriginal Row Index: 21161\tDistance: 0.08652331385989209\tOriginal ID: 93456\n",
            "index                                 21161\n",
            "adult                                     0\n",
            "genres          [Animation, Comedy, Family]\n",
            "popularity                         24.82355\n",
            "runtime                                98.0\n",
            "vote_average                            7.0\n",
            "vote_count                           4729.0\n",
            "Name: 21126, dtype: object\n",
            "Despicable Me 2\tGru is recruited by the Anti-Villain League to help deal with a powerful new super criminal.\n",
            "=====\n",
            "2991\tOriginal Row Index: 2997\tDistance: 0.11451635030572949\tOriginal ID: 863\n",
            "index                                  2997\n",
            "adult                                     0\n",
            "genres          [Animation, Comedy, Family]\n",
            "popularity                        17.547693\n",
            "runtime                                92.0\n",
            "vote_average                            7.3\n",
            "vote_count                           3914.0\n",
            "Name: 2991, dtype: object\n",
            "Toy Story 2\tAndy heads off to Cowboy Camp, leaving his toys to their own devices. Things shift into high gear when an obsessive toy collector named Al McWhiggen, owner of Al's Toy Barn kidnaps Woody. Andy's toys mount a daring rescue mission, Buzz Lightyear meets his match and Woody has to decide where he and his heart truly belong.\n"
          ]
        }
      ],
      "source": [
        "showResults(0, dis_scaled, ind_scaled)"
      ]
    },
    {
      "cell_type": "markdown",
      "metadata": {
        "id": "F8eIeLdLu6zG"
      },
      "source": [
        "#3. Recommend movies using text\n",
        "Now let's try using text overviews to recommend movies that are similar in story line.\n",
        "\n",
        "Movies can be in different languages. First let's make sure overviews are indeed all in English."
      ]
    },
    {
      "cell_type": "code",
      "execution_count": 19,
      "metadata": {
        "colab": {
          "base_uri": "https://localhost:8080/"
        },
        "id": "UDNcVVtliX_c",
        "outputId": "cc84ffd5-922e-42ca-9a2f-78402df58bbb"
      },
      "outputs": [
        {
          "output_type": "stream",
          "name": "stdout",
          "text": [
            "93\n",
            "{nan, 'en', 'el', 'zh', 'he', 'bn', 'mk', 'th', 'jv', 'nl', 'ml', 'fi', 'bs', 'bm', 'tr', 'ps', 'sl', '82.0', 'pt', 'da', 'af', 'ko', 'ky', 'te', 'uz', 'sk', 'sh', 'ja', 'it', 'tl', 'es', 'sv', 'fr', 'ca', 'de', 'ay', 'et', 'cn', 'is', 'fa', 'lt', 'sr', '104.0', 'tg', 'cs', 'hr', 'xx', 'ru', 'si', 'kk', 'eu', 'zu', 'bg', 'fy', 'cy', 'pl', 'mr', 'lb', 'eo', 'hu', 'no', 'ro', 'ms', 'ka', 'rw', 'hy', 'mt', 'vi', 'qu', 'kn', 'id', 'wo', 'ne', '68.0', 'uk', 'iu', 'ku', 'pa', 'ur', 'la', 'bo', 'hi', 'ar', 'gl', 'mn', 'sq', 'ab', 'nb', 'lo', 'sm', 'lv', 'am', 'ta'}\n"
          ]
        }
      ],
      "source": [
        "languages = set(data['original_language'])\n",
        "print(len(languages))\n",
        "print(languages)"
      ]
    },
    {
      "cell_type": "code",
      "execution_count": 20,
      "metadata": {
        "colab": {
          "base_uri": "https://localhost:8080/"
        },
        "id": "90CdOKtkim9j",
        "outputId": "8df3a817-dd75-479e-e31d-edf81a5e54e3"
      },
      "outputs": [
        {
          "output_type": "stream",
          "name": "stdout",
          "text": [
            "(13197, 17)\n"
          ]
        },
        {
          "output_type": "execute_result",
          "data": {
            "text/plain": [
              "28     A scientist in a surrealist society kidnaps ch...\n",
              "29     A provincial boy related to a Shanghai crime f...\n",
              "32                                                  <NA>\n",
              "52     Fiore, an Italian conman, arrives in post Comm...\n",
              "57     Simple Italian postman learns to love poetry w...\n",
              "58     The year is 1952, in Quebec City. Rachel (16),...\n",
              "67     After learning of her husband's infidelities, ...\n",
              "72     In France during World War II, a poor and illi...\n",
              "79     Several people try to take advantage of a litt...\n",
              "81     After World War II, Antonia and her daughter, ...\n",
              "95     Aimlessly whiling away their days in the concr...\n",
              "104                                   No overview found.\n",
              "110    Keong comes from Hong Kong to visit New York f...\n",
              "121    Every day, Cop 223 buys a can of pineapple wit...\n",
              "122    The adventures and deceptions of a photographe...\n",
              "125    The death of a prince brings a young woman bac...\n",
              "129    The quirky story of a young boy's adventures g...\n",
              "131    Balbuena is a genial illegal immigrant who mak...\n",
              "151    Beautiful young housewife Séverine Serizy cann...\n",
              "196    This simple romantic tragedy begins in 1957. G...\n",
              "210    Russia, 1936: revolutionary hero Colonel Kotov...\n",
              "224    Johnny Destiny burns into Las Vegas in his hot...\n",
              "228    The film tells the story of a retired and wido...\n",
              "238    Farinelli is a 1994 biopic film about the life...\n",
              "260    Paul, an irritable and stressed-out hotel mana...\n",
              "261    Tita is passionately in love with Pedro, but h...\n",
              "289    Leon, the top hit man in New York, has earned ...\n",
              "294    The story is about an elderly Chinese tai chi ...\n",
              "298    The night of August 24, 1572, is known as the ...\n",
              "300                                                 <NA>\n",
              "302    Red This is the third film from the trilogy by...\n",
              "303    A woman struggles to find a way to live her li...\n",
              "304    Polish immigrant Karol Karol finds himself out...\n",
              "305    A woman inherits her father's fireworks factor...\n",
              "317    Havana, Cuba, 1979. Flamboyantly gay artist Di...\n",
              "321    Fugui and Jiazhen endure tumultuous events in ...\n",
              "384    Colonel Chabert has been severely wounded in t...\n",
              "441    Abandoned by his prostitute mother in 1920, Do...\n",
              "490    Based on a true story set in pre-war Japan, a ...\n",
              "521    Jean is young, gay, and promiscuous. Only afte...\n",
              "561    Kika, a young cosmetologist, is called to the ...\n",
              "564    Stocholm in the 1920s. Young Roland lives with...\n",
              "572    The film shows the difficulties of an honest, ...\n",
              "576    Writer/director/actor Nanni Moretti offers a t...\n",
              "591    Nikolai (played by Sergei Dontsov) has been fi...\n",
              "607    Italian immigrant tries to become a member of ...\n",
              "609    Marisa Paredes is Leocadia (\"Leo\") Macias, a w...\n",
              "612    A meeting of two world famous climbers, one an...\n",
              "613    Old woman Berthe leaves her house to live in h...\n",
              "632    Stephen, an international trader, tracks down ...\n",
              "Name: overview, dtype: string"
            ]
          },
          "metadata": {},
          "execution_count": 20
        }
      ],
      "source": [
        "#Check that the overviews of non-English movies are also in English.\n",
        "data_noten = data[data['original_language'] != 'en']\n",
        "print(data_noten.shape)\n",
        "data_noten['overview'][:50]"
      ]
    },
    {
      "cell_type": "code",
      "execution_count": 21,
      "metadata": {
        "colab": {
          "base_uri": "https://localhost:8080/"
        },
        "id": "TVXlMESzAUGh",
        "outputId": "a54a96e4-0914-48fd-df51-caeda2edceaf"
      },
      "outputs": [
        {
          "output_type": "execute_result",
          "data": {
            "text/plain": [
              "(44425, 17)"
            ]
          },
          "metadata": {},
          "execution_count": 21
        }
      ],
      "source": [
        "#drop rows with missing values\n",
        "data = data.dropna()\n",
        "data.shape"
      ]
    },
    {
      "cell_type": "markdown",
      "metadata": {
        "id": "xzDAo423wcad"
      },
      "source": [
        "We can see that some movies have no review but their values of 'overview' are not empty. A good way to find such abnormal cases is to look at the number of words that a review has."
      ]
    },
    {
      "cell_type": "code",
      "execution_count": 22,
      "metadata": {
        "colab": {
          "base_uri": "https://localhost:8080/",
          "height": 421
        },
        "id": "pSCeLdoTi1Rk",
        "outputId": "bdcb4bfa-6e62-47ff-c64b-1e4e9b76e459"
      },
      "outputs": [
        {
          "output_type": "execute_result",
          "data": {
            "text/plain": [
              "(array([ 424., 1575., 3525., 4433., 3836., 3852., 2960., 2663., 2647.,\n",
              "        2802., 3170., 2268., 1628., 1275., 1006., 1112.,  842.,  788.,\n",
              "         684.,  576.,  516.,  387.,  331.,  278.,  263.,  263.,  174.,\n",
              "          78.,   54.,   15.]),\n",
              " array([  1. ,   7.2,  13.4,  19.6,  25.8,  32. ,  38.2,  44.4,  50.6,\n",
              "         56.8,  63. ,  69.2,  75.4,  81.6,  87.8,  94. , 100.2, 106.4,\n",
              "        112.6, 118.8, 125. , 131.2, 137.4, 143.6, 149.8, 156. , 162.2,\n",
              "        168.4, 174.6, 180.8, 187. ]),\n",
              " <a list of 30 Patch objects>)"
            ]
          },
          "metadata": {},
          "execution_count": 22
        },
        {
          "output_type": "display_data",
          "data": {
            "text/plain": [
              "<Figure size 432x288 with 1 Axes>"
            ],
            "image/png": "[encoded data removed]"
          },
          "metadata": {
            "needs_background": "light"
          }
        }
      ],
      "source": [
        "# How long are the overviews?\n",
        "len_overview = [ len(s.split(' ')) for s in data['overview'] ]\n",
        "plt.hist(len_overview, bins = 30)"
      ]
    },
    {
      "cell_type": "code",
      "execution_count": 23,
      "metadata": {
        "colab": {
          "base_uri": "https://localhost:8080/"
        },
        "id": "6VwAWgkpjukT",
        "outputId": "b8cd2203-2da5-441f-a8df-d0702a5be94e"
      },
      "outputs": [
        {
          "output_type": "stream",
          "name": "stdout",
          "text": [
            "178\n"
          ]
        }
      ],
      "source": [
        "short = [ s for s in data['overview'] if len(s.split(' ')) < 4 ]\n",
        "print(len(short))"
      ]
    },
    {
      "cell_type": "code",
      "execution_count": 24,
      "metadata": {
        "colab": {
          "base_uri": "https://localhost:8080/"
        },
        "id": "Cf0AxK1cRySA",
        "outputId": "643199ed-d241-4f4b-bbd5-817868fefaa6"
      },
      "outputs": [
        {
          "output_type": "execute_result",
          "data": {
            "text/plain": [
              "['No overview found.',\n",
              " 'German Comedy',\n",
              " 'No overview found.',\n",
              " 'No overview found.',\n",
              " 'No overview found.',\n",
              " 'No overview found.',\n",
              " 'No overview yet.',\n",
              " 'No overview found.',\n",
              " 'No overview found.',\n",
              " ' ',\n",
              " ' ',\n",
              " 'No overview found.',\n",
              " 'No overview found.',\n",
              " 'No overview found.',\n",
              " 'No overview found.',\n",
              " 'No overview found.',\n",
              " 'No overview found.',\n",
              " 'No overview found.',\n",
              " 'No overview found.',\n",
              " 'No overview found.',\n",
              " '...',\n",
              " 'No overview found.',\n",
              " 'No overview found.',\n",
              " 'No overview found.',\n",
              " 'No overview found.',\n",
              " 'Discovery Channel documentary',\n",
              " 'No overview found.',\n",
              " 'No overview found.',\n",
              " 'No overview found.',\n",
              " 'No overview found.',\n",
              " 'No overview found.',\n",
              " 'No overview found.',\n",
              " 'No overview found.',\n",
              " 'No overview found.',\n",
              " 'No overview found.',\n",
              " 'No overview found.',\n",
              " 'Return of Django',\n",
              " ' ',\n",
              " 'Directed by',\n",
              " 'No overview found.',\n",
              " 'Finnish Documentary',\n",
              " 'No overview found.',\n",
              " 'No overview found.',\n",
              " 'No overview found.',\n",
              " 'No overview found.',\n",
              " 'No overview yet.',\n",
              " 'No overview found.',\n",
              " 'Not Available',\n",
              " 'No overview found.',\n",
              " 'No overview found.',\n",
              " 'No overview found.',\n",
              " 'No overview found.',\n",
              " 'No overview found.',\n",
              " 'No overview found.',\n",
              " 'No overview found.',\n",
              " 'No overview found.',\n",
              " 'No overview found.',\n",
              " 'No overview found.',\n",
              " 'No overview found.',\n",
              " 'No overview found.',\n",
              " 'No overview found.',\n",
              " 'No overview found.',\n",
              " 'No overview found.',\n",
              " 'Dom är tillbaka!',\n",
              " 'No overview found.',\n",
              " ' ',\n",
              " 'No overview found.',\n",
              " 'No overview found.',\n",
              " 'No overview found.',\n",
              " 'No overview found.',\n",
              " 'No overview found.',\n",
              " 'No overview found.',\n",
              " 'No overview found.',\n",
              " 'No overview found.',\n",
              " 'No overview found.',\n",
              " 'No overview found.',\n",
              " 'No overview found.',\n",
              " 'No overview found.',\n",
              " 'No overview found.',\n",
              " 'Italian film',\n",
              " '2013 Italian comedy',\n",
              " 'No overview found',\n",
              " '70s Italian comedy.',\n",
              " 'No overview found.',\n",
              " 'No overview found.',\n",
              " 'Italian comedy',\n",
              " 'No overview found.',\n",
              " 'No overview',\n",
              " 'No overview found.',\n",
              " 'No overview found.',\n",
              " 'No overview found.',\n",
              " 'No overview found.',\n",
              " 'A skeleton dances.',\n",
              " 'No overview found.',\n",
              " 'No overview found.',\n",
              " 'No overview found.',\n",
              " 'No overview found.',\n",
              " 'No overview found.',\n",
              " 'No overview found.',\n",
              " 'Bollywood 2009',\n",
              " 'Bollywood 2009',\n",
              " 'no overview yet',\n",
              " 'No overview found.',\n",
              " 'No overview found.',\n",
              " ' ',\n",
              " 'No overview found.',\n",
              " 'Tupla-Uuno',\n",
              " 'Finnish documentary.',\n",
              " 'No overview found.',\n",
              " 'japanese movie',\n",
              " 'French Film',\n",
              " 'No overview found.',\n",
              " 'Documentary',\n",
              " 'No overview found.',\n",
              " 'No overview found.',\n",
              " 'No overview found.',\n",
              " 'No overview found.',\n",
              " 'No overview found.',\n",
              " 'x',\n",
              " 'No overview found.',\n",
              " 'No overview found.',\n",
              " 'No overview found.',\n",
              " 'No overview found.',\n",
              " 'No overview found.',\n",
              " 'No overview found.',\n",
              " 'No overview found.',\n",
              " 'No overview found.',\n",
              " 'No overview found.',\n",
              " 'No overview found.',\n",
              " 'No Overview',\n",
              " 'Finnish Road Movie',\n",
              " 'No overview found.',\n",
              " 'No Overview',\n",
              " 'No overview found.',\n",
              " 'No overview found.',\n",
              " 'No overview found.',\n",
              " 'No overview found.',\n",
              " 'No overview found.',\n",
              " 'No overview found.',\n",
              " 'No overview found.',\n",
              " 'No overview found.',\n",
              " 'No overview found.',\n",
              " 'No overview found.',\n",
              " 'No overview found.',\n",
              " 'Bigfoot documentary',\n",
              " 'No Overview',\n",
              " 'No overview found.',\n",
              " 'No overview found.',\n",
              " 'No overview found.',\n",
              " 'No overview found.',\n",
              " 'No overview found.',\n",
              " 'No Overview',\n",
              " 'No overview found.',\n",
              " 'No overview found.',\n",
              " 'No overview found.',\n",
              " 'No overview found.',\n",
              " 'No overview found.',\n",
              " 'No overview found.',\n",
              " 'No Overview',\n",
              " 'No Overview',\n",
              " 'No Overview',\n",
              " 'No overview found.',\n",
              " 'No overview.',\n",
              " 'No overview found.',\n",
              " 'Netflix Special',\n",
              " 'English gangster flick.',\n",
              " 'No overview found.',\n",
              " 'No overview found.',\n",
              " 'Feature film.',\n",
              " 'No overview found.',\n",
              " 'Scandal: Sex@students.edu',\n",
              " 'No overview found.',\n",
              " 'No overview found.',\n",
              " 'No overview found.',\n",
              " 'No overview found.',\n",
              " 'No overview found.',\n",
              " 'No overview found.',\n",
              " 'No overview found.']"
            ]
          },
          "metadata": {},
          "execution_count": 24
        }
      ],
      "source": [
        "short"
      ]
    },
    {
      "cell_type": "markdown",
      "metadata": {
        "id": "-8EG7U1_xlhB"
      },
      "source": [
        "Now let's create a subset of the data with 3 columns - 'overview', 'title', and 'genres'."
      ]
    },
    {
      "cell_type": "code",
      "execution_count": 25,
      "metadata": {
        "colab": {
          "base_uri": "https://localhost:8080/",
          "height": 206
        },
        "id": "V8CsJE1flHe3",
        "outputId": "9a53b835-3a40-4d38-eebf-58344f8c747b"
      },
      "outputs": [
        {
          "output_type": "execute_result",
          "data": {
            "text/plain": [
              "       index                     genres                title  \\\n",
              "44420  45460   [Drama, Action, Romance]           Robin Hood   \n",
              "44421  45462                    [Drama]  Century of Birthing   \n",
              "44422  45463  [Action, Drama, Thriller]             Betrayal   \n",
              "44423  45464                         []     Satan Triumphant   \n",
              "44424  45465                         []             Queerama   \n",
              "\n",
              "                                                overview  \n",
              "44420  Yet another version of the classic epic, with ...  \n",
              "44421  An artist struggles to finish his work while a...  \n",
              "44422  When one of her hits goes wrong, a professiona...  \n",
              "44423  In a small town live two brothers, one a minis...  \n",
              "44424  50 years after decriminalisation of homosexual...  "
            ],
            "text/html": [
              "\n",
              "  <div id=\"df-55c42cc6-6555-4298-885d-fdf9d04cb1e4\">\n",
              "    <div class=\"colab-df-container\">\n",
              "      <div>\n",
              "<style scoped>\n",
              "    .dataframe tbody tr th:only-of-type {\n",
              "        vertical-align: middle;\n",
              "    }\n",
              "\n",
              "    .dataframe tbody tr th {\n",
              "        vertical-align: top;\n",
              "    }\n",
              "\n",
              "    .dataframe thead th {\n",
              "        text-align: right;\n",
              "    }\n",
              "</style>\n",
              "<table border=\"1\" class=\"dataframe\">\n",
              "  <thead>\n",
              "    <tr style=\"text-align: right;\">\n",
              "      <th></th>\n",
              "      <th>index</th>\n",
              "      <th>genres</th>\n",
              "      <th>title</th>\n",
              "      <th>overview</th>\n",
              "    </tr>\n",
              "  </thead>\n",
              "  <tbody>\n",
              "    <tr>\n",
              "      <th>44420</th>\n",
              "      <td>45460</td>\n",
              "      <td>[Drama, Action, Romance]</td>\n",
              "      <td>Robin Hood</td>\n",
              "      <td>Yet another version of the classic epic, with ...</td>\n",
              "    </tr>\n",
              "    <tr>\n",
              "      <th>44421</th>\n",
              "      <td>45462</td>\n",
              "      <td>[Drama]</td>\n",
              "      <td>Century of Birthing</td>\n",
              "      <td>An artist struggles to finish his work while a...</td>\n",
              "    </tr>\n",
              "    <tr>\n",
              "      <th>44422</th>\n",
              "      <td>45463</td>\n",
              "      <td>[Action, Drama, Thriller]</td>\n",
              "      <td>Betrayal</td>\n",
              "      <td>When one of her hits goes wrong, a professiona...</td>\n",
              "    </tr>\n",
              "    <tr>\n",
              "      <th>44423</th>\n",
              "      <td>45464</td>\n",
              "      <td>[]</td>\n",
              "      <td>Satan Triumphant</td>\n",
              "      <td>In a small town live two brothers, one a minis...</td>\n",
              "    </tr>\n",
              "    <tr>\n",
              "      <th>44424</th>\n",
              "      <td>45465</td>\n",
              "      <td>[]</td>\n",
              "      <td>Queerama</td>\n",
              "      <td>50 years after decriminalisation of homosexual...</td>\n",
              "    </tr>\n",
              "  </tbody>\n",
              "</table>\n",
              "</div>\n",
              "      <button class=\"colab-df-convert\" onclick=\"convertToInteractive('df-55c42cc6-6555-4298-885d-fdf9d04cb1e4')\"\n",
              "              title=\"Convert this dataframe to an interactive table.\"\n",
              "              style=\"display:none;\">\n",
              "        \n",
              "  <svg xmlns=\"http://www.w3.org/2000/svg\" height=\"24px\"viewBox=\"0 0 24 24\"\n",
              "       width=\"24px\">\n",
              "    <path d=\"M0 0h24v24H0V0z\" fill=\"none\"/>\n",
              "    <path d=\"M18.56 5.44l.94 2.06.94-2.06 2.06-.94-2.06-.94-.94-2.06-.94 2.06-2.06.94zm-11 1L8.5 8.5l.94-2.06 2.06-.94-2.06-.94L8.5 2.5l-.94 2.06-2.06.94zm10 10l.94 2.06.94-2.06 2.06-.94-2.06-.94-.94-2.06-.94 2.06-2.06.94z\"/><path d=\"M17.41 7.96l-1.37-1.37c-.4-.4-.92-.59-1.43-.59-.52 0-1.04.2-1.43.59L10.3 9.45l-7.72 7.72c-.78.78-.78 2.05 0 2.83L4 21.41c.39.39.9.59 1.41.59.51 0 1.02-.2 1.41-.59l7.78-7.78 2.81-2.81c.8-.78.8-2.07 0-2.86zM5.41 20L4 18.59l7.72-7.72 1.47 1.35L5.41 20z\"/>\n",
              "  </svg>\n",
              "      </button>\n",
              "      \n",
              "  <style>\n",
              "    .colab-df-container {\n",
              "      display:flex;\n",
              "      flex-wrap:wrap;\n",
              "      gap: 12px;\n",
              "    }\n",
              "\n",
              "    .colab-df-convert {\n",
              "      background-color: #E8F0FE;\n",
              "      border: none;\n",
              "      border-radius: 50%;\n",
              "      cursor: pointer;\n",
              "      display: none;\n",
              "      fill: #1967D2;\n",
              "      height: 32px;\n",
              "      padding: 0 0 0 0;\n",
              "      width: 32px;\n",
              "    }\n",
              "\n",
              "    .colab-df-convert:hover {\n",
              "      background-color: #E2EBFA;\n",
              "      box-shadow: 0px 1px 2px rgba(60, 64, 67, 0.3), 0px 1px 3px 1px rgba(60, 64, 67, 0.15);\n",
              "      fill: #174EA6;\n",
              "    }\n",
              "\n",
              "    [theme=dark] .colab-df-convert {\n",
              "      background-color: #3B4455;\n",
              "      fill: #D2E3FC;\n",
              "    }\n",
              "\n",
              "    [theme=dark] .colab-df-convert:hover {\n",
              "      background-color: #434B5C;\n",
              "      box-shadow: 0px 1px 3px 1px rgba(0, 0, 0, 0.15);\n",
              "      filter: drop-shadow(0px 1px 2px rgba(0, 0, 0, 0.3));\n",
              "      fill: #FFFFFF;\n",
              "    }\n",
              "  </style>\n",
              "\n",
              "      <script>\n",
              "        const buttonEl =\n",
              "          document.querySelector('#df-55c42cc6-6555-4298-885d-fdf9d04cb1e4 button.colab-df-convert');\n",
              "        buttonEl.style.display =\n",
              "          google.colab.kernel.accessAllowed ? 'block' : 'none';\n",
              "\n",
              "        async function convertToInteractive(key) {\n",
              "          const element = document.querySelector('#df-55c42cc6-6555-4298-885d-fdf9d04cb1e4');\n",
              "          const dataTable =\n",
              "            await google.colab.kernel.invokeFunction('convertToInteractive',\n",
              "                                                     [key], {});\n",
              "          if (!dataTable) return;\n",
              "\n",
              "          const docLinkHtml = 'Like what you see? Visit the ' +\n",
              "            '<a target=\"_blank\" href=https://colab.research.google.com/notebooks/data_table.ipynb>data table notebook</a>'\n",
              "            + ' to learn more about interactive tables.';\n",
              "          element.innerHTML = '';\n",
              "          dataTable['output_type'] = 'display_data';\n",
              "          await google.colab.output.renderOutput(dataTable, element);\n",
              "          const docLink = document.createElement('div');\n",
              "          docLink.innerHTML = docLinkHtml;\n",
              "          element.appendChild(docLink);\n",
              "        }\n",
              "      </script>\n",
              "    </div>\n",
              "  </div>\n",
              "  "
            ]
          },
          "metadata": {},
          "execution_count": 25
        }
      ],
      "source": [
        "text_data = data[['genres', 'title', 'overview']] \n",
        "text_data = text_data.reset_index()\n",
        "text_data[-5:]"
      ]
    },
    {
      "cell_type": "markdown",
      "source": [
        "And combine 'overview' and 'title' as text for comparison."
      ],
      "metadata": {
        "id": "wufuPcRr1tVd"
      }
    },
    {
      "cell_type": "code",
      "execution_count": 31,
      "metadata": {
        "colab": {
          "base_uri": "https://localhost:8080/",
          "height": 53
        },
        "id": "f9Srrwgb1Eo5",
        "outputId": "2f24d7c3-233b-4e50-e69c-2058e422b867"
      },
      "outputs": [
        {
          "output_type": "execute_result",
          "data": {
            "text/plain": [
              "\"Led by Woody, Andy's toys live happily in his room until Andy's birthday brings Buzz Lightyear onto the scene. Afraid of losing his place in Andy's heart, Woody plots against Buzz. But when circumstances separate Buzz and Woody from their owner, the duo eventually learns to put aside their differences. Toy Story\""
            ],
            "application/vnd.google.colaboratory.intrinsic+json": {
              "type": "string"
            }
          },
          "metadata": {},
          "execution_count": 31
        }
      ],
      "source": [
        "text =  text_data['overview'] + ' ' + text_data['title']\n",
        "text[0]"
      ]
    },
    {
      "cell_type": "markdown",
      "metadata": {
        "id": "lvvRr7jnBR_-"
      },
      "source": [
        "#Representing text using TFIDF vectors"
      ]
    },
    {
      "cell_type": "code",
      "execution_count": 32,
      "metadata": {
        "id": "IGqKWam7kXD8"
      },
      "outputs": [],
      "source": [
        "# Create the TF-IDF vector\n",
        "vec_tfidf = TfidfVectorizer(min_df = 2, max_df=0.8, stop_words='english')\n",
        "\n",
        "vec_overview = vec_tfidf.fit_transform(text)"
      ]
    },
    {
      "cell_type": "code",
      "execution_count": 37,
      "metadata": {
        "id": "m47Mg5EikeBP"
      },
      "outputs": [],
      "source": [
        "# find top k movies most similar to q\n",
        "def findMovie(q, k):\n",
        "    print(text_data['title'][q])\n",
        "    vals = cosine_similarity(vec_overview[q], vec_overview)\n",
        "    idx_asc = vals.argsort()[0][-k:] #get index of highest sim values\n",
        "    idx_dsc = idx_asc[::-1] #reverse the indices\n",
        "    print(idx_dsc)\n",
        "    flatv = np.sort(vals[0])\n",
        "    vk_asc = flatv[-k:]\n",
        "    vk_dsc = vk_asc[::-1] #reverse the list\n",
        "    if(vk_dsc[1]==0):\n",
        "        print(\"No similar movie is found\")\n",
        "    else:\n",
        "        for v, i in zip(vk_dsc, idx_dsc):\n",
        "          print(text_data['title'][i]+'\\t'+str(v)+\"\\t\"+str(i)+\"\\t\"+str(text_data['index'][i])+'\\t'+str(text_data['genres'][i]))\n",
        "          print('\\t'+text_data['overview'][i])"
      ]
    },
    {
      "cell_type": "code",
      "source": [
        "findMovie(0, 5)"
      ],
      "metadata": {
        "colab": {
          "base_uri": "https://localhost:8080/"
        },
        "id": "EvHAuAqT2T8q",
        "outputId": "30103cbd-3ad9-4115-c76f-121a4100ddfe"
      },
      "execution_count": 38,
      "outputs": [
        {
          "output_type": "stream",
          "name": "stdout",
          "text": [
            "Toy Story\n",
            "[    0 15275  2977 10266 24287]\n",
            "Toy Story\t1.0000000000000002\t0\t0\t['Animation', 'Comedy', 'Family']\n",
            "\tLed by Woody, Andy's toys live happily in his room until Andy's birthday brings Buzz Lightyear onto the scene. Afraid of losing his place in Andy's heart, Woody plots against Buzz. But when circumstances separate Buzz and Woody from their owner, the duo eventually learns to put aside their differences.\n",
            "Toy Story 3\t0.5487307348604573\t15275\t15348\t['Animation', 'Family', 'Comedy']\n",
            "\tWoody, Buzz, and the rest of Andy's toys haven't been played with in years. With Andy about to go to college, the gang find themselves accidentally left at a nefarious day care center. The toys must band together to escape and return home to Andy.\n",
            "Toy Story 2\t0.5193233732253285\t2977\t2997\t['Animation', 'Comedy', 'Family']\n",
            "\tAndy heads off to Cowboy Camp, leaving his toys to their own devices. Things shift into high gear when an obsessive toy collector named Al McWhiggen, owner of Al's Toy Barn kidnaps Woody. Andy's toys mount a daring rescue mission, Buzz Lightyear meets his match and Woody has to decide where he and his heart truly belong.\n",
            "The 40 Year Old Virgin\t0.2802642717967905\t10266\t10301\t['Comedy', 'Romance']\n",
            "\tAndy Stitzer has a pleasant life with a nice apartment and a job stamping invoices at an electronics store. But at age 40, there's one thing Andy hasn't done, and it's really bothering his sex-obsessed male co-workers: Andy is still a virgin. Determined to help Andy get laid, the guys make it their mission to de-virginize him. But it all seems hopeless until Andy meets small business owner Trish, a single mom.\n",
            "Small Fry\t0.25791114195636805\t24287\t24523\t['Animation', 'Family']\n",
            "\tA fast food restaurant mini variant of Buzz forcibly switches places with the real Buzz and his friends have to deal with the obnoxious impostor.\n"
          ]
        }
      ]
    },
    {
      "cell_type": "code",
      "source": [
        "findMovie(9, 5)"
      ],
      "metadata": {
        "colab": {
          "base_uri": "https://localhost:8080/"
        },
        "id": "MP2uY1Y42qWW",
        "outputId": "85244f69-e6da-4c67-8727-f8bd4f19c533"
      },
      "execution_count": 39,
      "outputs": [
        {
          "output_type": "stream",
          "name": "stdout",
          "text": [
            "GoldenEye\n",
            "[   9 2854 6264 7301 7304]\n",
            "GoldenEye\t1.0\t9\t9\t['Adventure', 'Action', 'Thriller']\n",
            "\tJames Bond must unmask the mysterious head of the Janus Syndicate and prevent the leader from utilizing the GoldenEye weapons system to inflict devastating revenge on Britain.\n",
            "Licence to Kill\t0.1710392547036642\t2854\t2874\t['Adventure', 'Action', 'Thriller']\n",
            "\tJames Bond and his American colleague Felix Leiter arrest the drug lord Sanchez who succeeds in escaping and takes revenge on Felix and his wife. Bond knows but just one thing: revenge.\n",
            "Battle of Britain\t0.1664919044981468\t6264\t6293\t['Action', 'Drama', 'History', 'War']\n",
            "\tIn 1940, the Royal Air Force fights a desperate battle against the might of the Luftwaffe for control of the skies over Britain, thus preventing the Nazi invasion of Britain.\n",
            "Octopussy\t0.16643727475108994\t7301\t7330\t['Adventure', 'Action', 'Thriller']\n",
            "\tJames Bond is sent to investigate after a fellow “00” agent is found dead with a priceless Farberge egg. James bond follows the mystery and uncovers a smuggling scandal and a Russian General who wants to provoke a new World War.\n",
            "Never Say Never Again\t0.15594887227284487\t7304\t7333\t['Adventure', 'Action', 'Thriller']\n",
            "\tJames Bond returns as the secret agent 007 one more time to battle the evil organization SPECTRE. Bond must defeat Largo, who has stolen two atomic warheads for nuclear blackmail. But Bond has an ally in Largo's girlfriend, the willowy Domino, who falls for Bond and seeks revenge. This is the last time for Sean Connery as Her Majesty's Secret Agent 007.\n"
          ]
        }
      ]
    },
    {
      "cell_type": "markdown",
      "source": [
        "You may also bring other features into the text for comparison, e.g. 'genres'."
      ],
      "metadata": {
        "id": "ujc9WStf4HWB"
      }
    },
    {
      "cell_type": "code",
      "source": [
        "text =  text_data['overview'] + ' ' + text_data['title'] + ' '+ [ ' '.join(g) for g in text_data['genres']] \n",
        "\n",
        "vec_overview = vec_tfidf.fit_transform(text)"
      ],
      "metadata": {
        "id": "ETGz6ZoQ00UK"
      },
      "execution_count": 40,
      "outputs": []
    },
    {
      "cell_type": "code",
      "execution_count": 41,
      "metadata": {
        "colab": {
          "base_uri": "https://localhost:8080/"
        },
        "id": "1UQoUoK4knG9",
        "outputId": "099bd217-7395-42e9-86e8-151a03e2369a"
      },
      "outputs": [
        {
          "output_type": "stream",
          "name": "stdout",
          "text": [
            "Toy Story\n",
            "[    0 15275  2977 10266 24287]\n",
            "Toy Story\t1.0000000000000002\t0\t0\t['Animation', 'Comedy', 'Family']\n",
            "\tLed by Woody, Andy's toys live happily in his room until Andy's birthday brings Buzz Lightyear onto the scene. Afraid of losing his place in Andy's heart, Woody plots against Buzz. But when circumstances separate Buzz and Woody from their owner, the duo eventually learns to put aside their differences.\n",
            "Toy Story 3\t0.5553336568491268\t15275\t15348\t['Animation', 'Family', 'Comedy']\n",
            "\tWoody, Buzz, and the rest of Andy's toys haven't been played with in years. With Andy about to go to college, the gang find themselves accidentally left at a nefarious day care center. The toys must band together to escape and return home to Andy.\n",
            "Toy Story 2\t0.5247868407550742\t2977\t2997\t['Animation', 'Comedy', 'Family']\n",
            "\tAndy heads off to Cowboy Camp, leaving his toys to their own devices. Things shift into high gear when an obsessive toy collector named Al McWhiggen, owner of Al's Toy Barn kidnaps Woody. Andy's toys mount a daring rescue mission, Buzz Lightyear meets his match and Woody has to decide where he and his heart truly belong.\n",
            "The 40 Year Old Virgin\t0.27982426525122867\t10266\t10301\t['Comedy', 'Romance']\n",
            "\tAndy Stitzer has a pleasant life with a nice apartment and a job stamping invoices at an electronics store. But at age 40, there's one thing Andy hasn't done, and it's really bothering his sex-obsessed male co-workers: Andy is still a virgin. Determined to help Andy get laid, the guys make it their mission to de-virginize him. But it all seems hopeless until Andy meets small business owner Trish, a single mom.\n",
            "Small Fry\t0.2681818413374437\t24287\t24523\t['Animation', 'Family']\n",
            "\tA fast food restaurant mini variant of Buzz forcibly switches places with the real Buzz and his friends have to deal with the obnoxious impostor.\n"
          ]
        }
      ],
      "source": [
        "findMovie(0, 5)"
      ]
    },
    {
      "cell_type": "code",
      "execution_count": 42,
      "metadata": {
        "colab": {
          "base_uri": "https://localhost:8080/"
        },
        "id": "WfGjdDQ1l_3q",
        "outputId": "892cf48a-6171-45fa-cd60-55af230e9abb"
      },
      "outputs": [
        {
          "output_type": "stream",
          "name": "stdout",
          "text": [
            "GoldenEye\n",
            "[   9 2854 7301 2855 7300]\n",
            "GoldenEye\t1.0000000000000002\t9\t9\t['Adventure', 'Action', 'Thriller']\n",
            "\tJames Bond must unmask the mysterious head of the Janus Syndicate and prevent the leader from utilizing the GoldenEye weapons system to inflict devastating revenge on Britain.\n",
            "Licence to Kill\t0.1950552271527256\t2854\t2874\t['Adventure', 'Action', 'Thriller']\n",
            "\tJames Bond and his American colleague Felix Leiter arrest the drug lord Sanchez who succeeds in escaping and takes revenge on Felix and his wife. Bond knows but just one thing: revenge.\n",
            "Octopussy\t0.1949617336767311\t7301\t7330\t['Adventure', 'Action', 'Thriller']\n",
            "\tJames Bond is sent to investigate after a fellow “00” agent is found dead with a priceless Farberge egg. James bond follows the mystery and uncovers a smuggling scandal and a Russian General who wants to provoke a new World War.\n",
            "Live and Let Die\t0.18536394435986983\t2855\t2875\t['Adventure', 'Action', 'Thriller']\n",
            "\tJames Bond must investigate a mysterious murder case of a British agent in New Orleans. Soon he finds himself up against a gangster boss named Mr. Big.\n",
            "You Only Live Twice\t0.17494192369384026\t7300\t7329\t['Action', 'Thriller', 'Adventure']\n",
            "\tA mysterious space craft kidnaps a Russian and American space capsule and brings the world on the verge of another World War. James Bond investigates the case in Japan and meets with his archenemy Blofeld. The fifth film from the legendary James Bond series starring Sean Connery as the British super agent.\n"
          ]
        }
      ],
      "source": [
        "findMovie(9, 5)"
      ]
    },
    {
      "cell_type": "markdown",
      "metadata": {
        "id": "3EfH74CoMUU0"
      },
      "source": [
        "#Using embeddings from Doc2Vec\n",
        "Lastly, let's see how we can recommend movies based on paragraph embeddings created from the texts."
      ]
    },
    {
      "cell_type": "code",
      "execution_count": 44,
      "metadata": {
        "colab": {
          "base_uri": "https://localhost:8080/"
        },
        "id": "3_fepFxeMkT5",
        "outputId": "470373aa-5cfd-41f9-b8d0-855051ff782c"
      },
      "outputs": [
        {
          "output_type": "stream",
          "name": "stderr",
          "text": [
            "[nltk_data] Downloading package punkt to /root/nltk_data...\n",
            "[nltk_data]   Unzipping tokenizers/punkt.zip.\n"
          ]
        }
      ],
      "source": [
        "from gensim.models.doc2vec import Doc2Vec, TaggedDocument\n",
        "import nltk\n",
        "nltk.download('punkt')\n",
        "\n",
        "#tokenize the texts first\n",
        "textonly = text_data['title'] + ' ' + text_data['overview']\n",
        "text_tokens = [ word_tokenize(t.lower()) for t in textonly ]\n"
      ]
    },
    {
      "cell_type": "code",
      "execution_count": 63,
      "metadata": {
        "colab": {
          "base_uri": "https://localhost:8080/"
        },
        "id": "A_MjLDzrOGJa",
        "outputId": "29d86d72-e8f8-4562-89e4-2aa927968533"
      },
      "outputs": [
        {
          "output_type": "execute_result",
          "data": {
            "text/plain": [
              "[TaggedDocument(words=['toy', 'story', 'led', 'by', 'woody', ',', 'andy', \"'s\", 'toys', 'live', 'happily', 'in', 'his', 'room', 'until', 'andy', \"'s\", 'birthday', 'brings', 'buzz', 'lightyear', 'onto', 'the', 'scene', '.', 'afraid', 'of', 'losing', 'his', 'place', 'in', 'andy', \"'s\", 'heart', ',', 'woody', 'plots', 'against', 'buzz', '.', 'but', 'when', 'circumstances', 'separate', 'buzz', 'and', 'woody', 'from', 'their', 'owner', ',', 'the', 'duo', 'eventually', 'learns', 'to', 'put', 'aside', 'their', 'differences', '.'], tags=[0]),\n",
              " TaggedDocument(words=['jumanji', 'when', 'siblings', 'judy', 'and', 'peter', 'discover', 'an', 'enchanted', 'board', 'game', 'that', 'opens', 'the', 'door', 'to', 'a', 'magical', 'world', ',', 'they', 'unwittingly', 'invite', 'alan', '--', 'an', 'adult', 'who', \"'s\", 'been', 'trapped', 'inside', 'the', 'game', 'for', '26', 'years', '--', 'into', 'their', 'living', 'room', '.', 'alan', \"'s\", 'only', 'hope', 'for', 'freedom', 'is', 'to', 'finish', 'the', 'game', ',', 'which', 'proves', 'risky', 'as', 'all', 'three', 'find', 'themselves', 'running', 'from', 'giant', 'rhinoceroses', ',', 'evil', 'monkeys', 'and', 'other', 'terrifying', 'creatures', '.'], tags=[1]),\n",
              " TaggedDocument(words=['grumpier', 'old', 'men', 'a', 'family', 'wedding', 'reignites', 'the', 'ancient', 'feud', 'between', 'next-door', 'neighbors', 'and', 'fishing', 'buddies', 'john', 'and', 'max', '.', 'meanwhile', ',', 'a', 'sultry', 'italian', 'divorcée', 'opens', 'a', 'restaurant', 'at', 'the', 'local', 'bait', 'shop', ',', 'alarming', 'the', 'locals', 'who', 'worry', 'she', \"'ll\", 'scare', 'the', 'fish', 'away', '.', 'but', 'she', \"'s\", 'less', 'interested', 'in', 'seafood', 'than', 'she', 'is', 'in', 'cooking', 'up', 'a', 'hot', 'time', 'with', 'max', '.'], tags=[2]),\n",
              " TaggedDocument(words=['waiting', 'to', 'exhale', 'cheated', 'on', ',', 'mistreated', 'and', 'stepped', 'on', ',', 'the', 'women', 'are', 'holding', 'their', 'breath', ',', 'waiting', 'for', 'the', 'elusive', '``', 'good', 'man', \"''\", 'to', 'break', 'a', 'string', 'of', 'less-than-stellar', 'lovers', '.', 'friends', 'and', 'confidants', 'vannah', ',', 'bernie', ',', 'glo', 'and', 'robin', 'talk', 'it', 'all', 'out', ',', 'determined', 'to', 'find', 'a', 'better', 'way', 'to', 'breathe', '.'], tags=[3]),\n",
              " TaggedDocument(words=['father', 'of', 'the', 'bride', 'part', 'ii', 'just', 'when', 'george', 'banks', 'has', 'recovered', 'from', 'his', 'daughter', \"'s\", 'wedding', ',', 'he', 'receives', 'the', 'news', 'that', 'she', \"'s\", 'pregnant', '...', 'and', 'that', 'george', \"'s\", 'wife', ',', 'nina', ',', 'is', 'expecting', 'too', '.', 'he', 'was', 'planning', 'on', 'selling', 'their', 'home', ',', 'but', 'that', \"'s\", 'a', 'plan', 'that', '--', 'like', 'george', '--', 'will', 'have', 'to', 'change', 'with', 'the', 'arrival', 'of', 'both', 'a', 'grandchild', 'and', 'a', 'kid', 'of', 'his', 'own', '.'], tags=[4]),\n",
              " TaggedDocument(words=['heat', 'obsessive', 'master', 'thief', ',', 'neil', 'mccauley', 'leads', 'a', 'top-notch', 'crew', 'on', 'various', 'insane', 'heists', 'throughout', 'los', 'angeles', 'while', 'a', 'mentally', 'unstable', 'detective', ',', 'vincent', 'hanna', 'pursues', 'him', 'without', 'rest', '.', 'each', 'man', 'recognizes', 'and', 'respects', 'the', 'ability', 'and', 'the', 'dedication', 'of', 'the', 'other', 'even', 'though', 'they', 'are', 'aware', 'their', 'cat-and-mouse', 'game', 'may', 'end', 'in', 'violence', '.'], tags=[5]),\n",
              " TaggedDocument(words=['sabrina', 'an', 'ugly', 'duckling', 'having', 'undergone', 'a', 'remarkable', 'change', ',', 'still', 'harbors', 'feelings', 'for', 'her', 'crush', ':', 'a', 'carefree', 'playboy', ',', 'but', 'not', 'before', 'his', 'business-focused', 'brother', 'has', 'something', 'to', 'say', 'about', 'it', '.'], tags=[6]),\n",
              " TaggedDocument(words=['tom', 'and', 'huck', 'a', 'mischievous', 'young', 'boy', ',', 'tom', 'sawyer', ',', 'witnesses', 'a', 'murder', 'by', 'the', 'deadly', 'injun', 'joe', '.', 'tom', 'becomes', 'friends', 'with', 'huckleberry', 'finn', ',', 'a', 'boy', 'with', 'no', 'future', 'and', 'no', 'family', '.', 'tom', 'has', 'to', 'choose', 'between', 'honoring', 'a', 'friendship', 'or', 'honoring', 'an', 'oath', 'because', 'the', 'town', 'alcoholic', 'is', 'accused', 'of', 'the', 'murder', '.', 'tom', 'and', 'huck', 'go', 'through', 'several', 'adventures', 'trying', 'to', 'retrieve', 'evidence', '.'], tags=[7]),\n",
              " TaggedDocument(words=['sudden', 'death', 'international', 'action', 'superstar', 'jean', 'claude', 'van', 'damme', 'teams', 'with', 'powers', 'boothe', 'in', 'a', 'tension-packed', ',', 'suspense', 'thriller', ',', 'set', 'against', 'the', 'back-drop', 'of', 'a', 'stanley', 'cup', 'game.van', 'damme', 'portrays', 'a', 'father', 'whose', 'daughter', 'is', 'suddenly', 'taken', 'during', 'a', 'championship', 'hockey', 'game', '.', 'with', 'the', 'captors', 'demanding', 'a', 'billion', 'dollars', 'by', 'game', \"'s\", 'end', ',', 'van', 'damme', 'frantically', 'sets', 'a', 'plan', 'in', 'motion', 'to', 'rescue', 'his', 'daughter', 'and', 'abort', 'an', 'impending', 'explosion', 'before', 'the', 'final', 'buzzer', '...'], tags=[8]),\n",
              " TaggedDocument(words=['goldeneye', 'james', 'bond', 'must', 'unmask', 'the', 'mysterious', 'head', 'of', 'the', 'janus', 'syndicate', 'and', 'prevent', 'the', 'leader', 'from', 'utilizing', 'the', 'goldeneye', 'weapons', 'system', 'to', 'inflict', 'devastating', 'revenge', 'on', 'britain', '.'], tags=[9])]"
            ]
          },
          "metadata": {},
          "execution_count": 63
        }
      ],
      "source": [
        "# Convert tokenized document into gensim formated tagged data\n",
        "tagged_data = [TaggedDocument(d, [i]) for i, d in enumerate(text_tokens)]\n",
        "tagged_data[:10]"
      ]
    },
    {
      "cell_type": "code",
      "execution_count": 64,
      "metadata": {
        "id": "_mPQ2i9rOlAT"
      },
      "outputs": [],
      "source": [
        "## Prepare to train doc2vec model\n",
        "\n",
        "model = Doc2Vec(vector_size=64, min_count=2, epochs=40)\n",
        "model.build_vocab(tagged_data)\n"
      ]
    },
    {
      "cell_type": "code",
      "source": [
        "# Train the model using our data\n",
        "#model.train(tagged_data, total_examples=model.corpus_count, epochs=40)"
      ],
      "metadata": {
        "id": "kBYJQEYmYQd9"
      },
      "execution_count": 65,
      "outputs": []
    },
    {
      "cell_type": "code",
      "execution_count": 45,
      "metadata": {
        "id": "4lj4nMU_V31Q"
      },
      "outputs": [],
      "source": [
        "# As training takes a long time, here we load a doc2vec model that has been trained and saved previously.\n",
        "model= Doc2Vec.load(\"drive/MyDrive/Colab Notebooks/RecSys/movies_doc2vec_64.model\")"
      ]
    },
    {
      "cell_type": "code",
      "execution_count": 53,
      "metadata": {
        "colab": {
          "base_uri": "https://localhost:8080/"
        },
        "id": "tjJzTVm3RCn3",
        "outputId": "935b9966-ea53-414d-9897-096fc493b569"
      },
      "outputs": [
        {
          "output_type": "execute_result",
          "data": {
            "text/plain": [
              "[(9, 0.9004906415939331),\n",
              " (13623, 0.6304832696914673),\n",
              " (1894, 0.6279374361038208),\n",
              " (2271, 0.6118921041488647),\n",
              " (27781, 0.6044468283653259)]"
            ]
          },
          "metadata": {},
          "execution_count": 53
        }
      ],
      "source": [
        "# find top K most similar documents for a test document\n",
        "test_doc = word_tokenize(textonly[9].lower())\n",
        "test_vec = model.infer_vector(test_doc)\n",
        "results = model.docvecs.most_similar(positive=[test_vec],topn=5)\n",
        "results"
      ]
    },
    {
      "cell_type": "code",
      "execution_count": 54,
      "metadata": {
        "colab": {
          "base_uri": "https://localhost:8080/"
        },
        "id": "QTTKbssPSPpE",
        "outputId": "42e979bb-c451-40a3-a758-4cd085b48ca6"
      },
      "outputs": [
        {
          "output_type": "stream",
          "name": "stdout",
          "text": [
            "GoldenEye\tRow: 9\tOriginal Row: 9\t['Adventure', 'Action', 'Thriller']\n",
            "\tJames Bond must unmask the mysterious head of the Janus Syndicate and prevent the leader from utilizing the GoldenEye weapons system to inflict devastating revenge on Britain.\n",
            "Angels & Demons\tRow: 13623\tOriginal Row: 13670\t['Thriller', 'Mystery']\n",
            "\tHarvard symbologist Robert Langdon investigates a mysterious symbol seared into the chest of a murdered physicist. He discovers evidence of the unimaginable, the rebirth of an ancient secret brotherhood known as the Illuminati, the most powerful underground organization ever to walk the earth.\n",
            "Dune\tRow: 1894\tOriginal Row: 1912\t['Action', 'Science Fiction', 'Adventure']\n",
            "\tIn the year 10,191, the world is at war for control of the desert planet Dune – the only place where the time-travel substance 'Spice' can be found. But when one leader gives up control, it's only so he can stage a coup with some unsavory characters.\n",
            "Rambo III\tRow: 2271\tOriginal Row: 2291\t['Action', 'Adventure', 'Thriller', 'War']\n",
            "\tCombat has taken its toll on Rambo, but he's finally begun to find inner peace in a monastery. When Rambo's friend and mentor Col. Trautman asks for his help on a top secret mission to Afghanistan, Rambo declines but must reconsider when Trautman is captured.\n",
            "One Man's Justice\tRow: 27781\tOriginal Row: 28089\t['Action', 'Thriller']\n",
            "\tWhen a man's wife and family are murdered, he plots revenge only to find out that the killer is under Federal protection and he must exact his own form of justice.\n"
          ]
        }
      ],
      "source": [
        "#check the results\n",
        "for i, d in results:\n",
        "  print(text_data['title'][i]+'\\t'+\"Row: \"+str(i) + \"\\tOriginal Row: \" + str(text_data['index'][i]) + '\\t'+str(text_data['genres'][i]))\n",
        "  print('\\t'+text_data['overview'][i])"
      ]
    },
    {
      "cell_type": "code",
      "execution_count": 68,
      "metadata": {
        "id": "gZgCUGxfZiLW"
      },
      "outputs": [],
      "source": [
        "#The model can be saved for future usage.\n",
        "#model.save(\"drive/MyDrive/Colab Notebooks/RecSys/movies_doc2vec_64.model\")\n",
        "## Load saved doc2vec model\n",
        "#model= Doc2Vec.load(\"drive/MyDrive/Colab Notebooks/RecSys/movies_doc2vec_64.model\")"
      ]
    }
  ],
  "metadata": {
    "colab": {
      "provenance": []
    },
    "kernelspec": {
      "display_name": "Python 3",
      "name": "python3"
    },
    "language_info": {
      "name": "python"
    },
    "accelerator": "GPU",
    "gpuClass": "standard"
  },
  "nbformat": 4,
  "nbformat_minor": 0
}